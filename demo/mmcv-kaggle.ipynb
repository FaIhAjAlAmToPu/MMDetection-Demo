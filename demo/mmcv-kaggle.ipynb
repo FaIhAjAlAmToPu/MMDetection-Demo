{
 "cells": [
  {
   "cell_type": "markdown",
   "id": "e894b10d",
   "metadata": {
    "papermill": {
     "duration": 0.003637,
     "end_time": "2024-12-13T15:21:59.730609",
     "exception": false,
     "start_time": "2024-12-13T15:21:59.726972",
     "status": "completed"
    },
    "tags": []
   },
   "source": [
    "# 1. Understand Kaggle's Environment"
   ]
  },
  {
   "cell_type": "code",
   "execution_count": 1,
   "id": "235d681d",
   "metadata": {
    "_cell_guid": "b1076dfc-b9ad-4769-8c92-a6c4dae69d19",
    "_uuid": "8f2839f25d086af736a60e9eeb907d3b93b6e0e5",
    "execution": {
     "iopub.execute_input": "2024-12-13T15:21:59.737888Z",
     "iopub.status.busy": "2024-12-13T15:21:59.737504Z",
     "iopub.status.idle": "2024-12-13T15:22:00.734309Z",
     "shell.execute_reply": "2024-12-13T15:22:00.733215Z"
    },
    "papermill": {
     "duration": 1.002653,
     "end_time": "2024-12-13T15:22:00.736372",
     "exception": false,
     "start_time": "2024-12-13T15:21:59.733719",
     "status": "completed"
    },
    "tags": []
   },
   "outputs": [
    {
     "name": "stdout",
     "output_type": "stream",
     "text": [
      "Python 3.10.14\r\n"
     ]
    }
   ],
   "source": [
    "!python --version"
   ]
  },
  {
   "cell_type": "code",
   "execution_count": 2,
   "id": "fb02ee14",
   "metadata": {
    "execution": {
     "iopub.execute_input": "2024-12-13T15:22:00.743903Z",
     "iopub.status.busy": "2024-12-13T15:22:00.743603Z",
     "iopub.status.idle": "2024-12-13T15:22:01.736949Z",
     "shell.execute_reply": "2024-12-13T15:22:01.735859Z"
    },
    "papermill": {
     "duration": 0.999377,
     "end_time": "2024-12-13T15:22:01.739046",
     "exception": false,
     "start_time": "2024-12-13T15:22:00.739669",
     "status": "completed"
    },
    "tags": []
   },
   "outputs": [
    {
     "name": "stdout",
     "output_type": "stream",
     "text": [
      "nvcc: NVIDIA (R) Cuda compiler driver\r\n",
      "Copyright (c) 2005-2023 NVIDIA Corporation\r\n",
      "Built on Wed_Nov_22_10:17:15_PST_2023\r\n",
      "Cuda compilation tools, release 12.3, V12.3.107\r\n",
      "Build cuda_12.3.r12.3/compiler.33567101_0\r\n"
     ]
    }
   ],
   "source": [
    "!nvcc --version"
   ]
  },
  {
   "cell_type": "code",
   "execution_count": 3,
   "id": "d116e1ae",
   "metadata": {
    "execution": {
     "iopub.execute_input": "2024-12-13T15:22:01.746733Z",
     "iopub.status.busy": "2024-12-13T15:22:01.746413Z",
     "iopub.status.idle": "2024-12-13T15:22:06.498720Z",
     "shell.execute_reply": "2024-12-13T15:22:06.497819Z"
    },
    "papermill": {
     "duration": 4.758892,
     "end_time": "2024-12-13T15:22:06.501281",
     "exception": false,
     "start_time": "2024-12-13T15:22:01.742389",
     "status": "completed"
    },
    "tags": []
   },
   "outputs": [
    {
     "name": "stdout",
     "output_type": "stream",
     "text": [
      "2.4.0\r\n"
     ]
    }
   ],
   "source": [
    "!python -c \"import torch; print(torch.__version__)\""
   ]
  },
  {
   "cell_type": "markdown",
   "id": "a8198222",
   "metadata": {
    "papermill": {
     "duration": 0.002872,
     "end_time": "2024-12-13T15:22:06.508497",
     "exception": false,
     "start_time": "2024-12-13T15:22:06.505625",
     "status": "completed"
    },
    "tags": []
   },
   "source": [
    "# 2. Dependencies Required for MMDetection\n",
    "* [docs](https://mmdetection.readthedocs.io/en/v2.24.1/get_started.html#)\n",
    "* [Or Choose](https://mmcv.readthedocs.io/en/latest/get_started/installation.html)\n",
    "\n",
    "```sh\n",
    "pip install mmcv-full -f https://download.openmmlab.com/mmcv/dist/{cu_version}/{torch_version}/index.html\n",
    "```"
   ]
  },
  {
   "cell_type": "code",
   "execution_count": 4,
   "id": "188b24d6",
   "metadata": {
    "execution": {
     "iopub.execute_input": "2024-12-13T15:22:06.515823Z",
     "iopub.status.busy": "2024-12-13T15:22:06.515490Z",
     "iopub.status.idle": "2024-12-13T15:22:07.514382Z",
     "shell.execute_reply": "2024-12-13T15:22:07.513567Z"
    },
    "papermill": {
     "duration": 1.004899,
     "end_time": "2024-12-13T15:22:07.516320",
     "exception": false,
     "start_time": "2024-12-13T15:22:06.511421",
     "status": "completed"
    },
    "tags": []
   },
   "outputs": [
    {
     "name": "stdout",
     "output_type": "stream",
     "text": [
      "Build cuda_12.3.r12.3/compiler.33567101_0\r\n"
     ]
    }
   ],
   "source": [
    "!nvcc --version | grep cuda"
   ]
  },
  {
   "cell_type": "markdown",
   "id": "d6654d1b",
   "metadata": {
    "papermill": {
     "duration": 0.002967,
     "end_time": "2024-12-13T15:22:07.522752",
     "exception": false,
     "start_time": "2024-12-13T15:22:07.519785",
     "status": "completed"
    },
    "tags": []
   },
   "source": [
    "### requires a long time\n",
    "[10+mins]"
   ]
  },
  {
   "cell_type": "markdown",
   "id": "913261c6",
   "metadata": {
    "papermill": {
     "duration": 0.002885,
     "end_time": "2024-12-13T15:22:07.528639",
     "exception": false,
     "start_time": "2024-12-13T15:22:07.525754",
     "status": "completed"
    },
    "tags": []
   },
   "source": [
    "### directly (No ERROR SHOWN)"
   ]
  },
  {
   "cell_type": "code",
   "execution_count": 5,
   "id": "baa807ac",
   "metadata": {
    "execution": {
     "iopub.execute_input": "2024-12-13T15:22:07.536093Z",
     "iopub.status.busy": "2024-12-13T15:22:07.535799Z",
     "iopub.status.idle": "2024-12-13T15:22:07.539721Z",
     "shell.execute_reply": "2024-12-13T15:22:07.538954Z"
    },
    "papermill": {
     "duration": 0.009594,
     "end_time": "2024-12-13T15:22:07.541268",
     "exception": false,
     "start_time": "2024-12-13T15:22:07.531674",
     "status": "completed"
    },
    "tags": []
   },
   "outputs": [],
   "source": [
    "# !pip install mmcv-full -f https://download.openmmlab.com/mmcv/dist/cu123/torch2.4/index.html"
   ]
  },
  {
   "cell_type": "markdown",
   "id": "260f7991",
   "metadata": {
    "papermill": {
     "duration": 0.002911,
     "end_time": "2024-12-13T15:22:07.547303",
     "exception": false,
     "start_time": "2024-12-13T15:22:07.544392",
     "status": "completed"
    },
    "tags": []
   },
   "source": [
    "### toWorking(ERROR SHOWN)\n",
    "* Because the prev packages are in pip/wheels not in workind dir\n",
    "* will be solved when sys.append"
   ]
  },
  {
   "cell_type": "code",
   "execution_count": 6,
   "id": "ab8e4b11",
   "metadata": {
    "execution": {
     "iopub.execute_input": "2024-12-13T15:22:07.554586Z",
     "iopub.status.busy": "2024-12-13T15:22:07.554318Z",
     "iopub.status.idle": "2024-12-13T15:22:07.557704Z",
     "shell.execute_reply": "2024-12-13T15:22:07.557036Z"
    },
    "papermill": {
     "duration": 0.008762,
     "end_time": "2024-12-13T15:22:07.559179",
     "exception": false,
     "start_time": "2024-12-13T15:22:07.550417",
     "status": "completed"
    },
    "tags": []
   },
   "outputs": [],
   "source": [
    "# !pip install mmcv-full -f https://download.openmmlab.com/mmcv/dist/cu123/torch2.4/index.html --target=/kaggle/working/mmcv_packages"
   ]
  },
  {
   "cell_type": "code",
   "execution_count": 7,
   "id": "c118fa73",
   "metadata": {
    "execution": {
     "iopub.execute_input": "2024-12-13T15:22:07.566270Z",
     "iopub.status.busy": "2024-12-13T15:22:07.566024Z",
     "iopub.status.idle": "2024-12-13T15:22:07.569335Z",
     "shell.execute_reply": "2024-12-13T15:22:07.568570Z"
    },
    "papermill": {
     "duration": 0.008599,
     "end_time": "2024-12-13T15:22:07.570883",
     "exception": false,
     "start_time": "2024-12-13T15:22:07.562284",
     "status": "completed"
    },
    "tags": []
   },
   "outputs": [],
   "source": [
    "# !pip download mmcv-full -f https://download.openmmlab.com/mmcv/dist/cu123/torch2.4/index.html --dest /kaggle/working/mmcv_wheels"
   ]
  },
  {
   "cell_type": "code",
   "execution_count": 8,
   "id": "cdc6dbdc",
   "metadata": {
    "execution": {
     "iopub.execute_input": "2024-12-13T15:22:07.578075Z",
     "iopub.status.busy": "2024-12-13T15:22:07.577840Z",
     "iopub.status.idle": "2024-12-13T15:22:07.580989Z",
     "shell.execute_reply": "2024-12-13T15:22:07.580268Z"
    },
    "papermill": {
     "duration": 0.008482,
     "end_time": "2024-12-13T15:22:07.582573",
     "exception": false,
     "start_time": "2024-12-13T15:22:07.574091",
     "status": "completed"
    },
    "tags": []
   },
   "outputs": [],
   "source": [
    "# !pip install /kaggle/working/mmcv_wheels/*.whl --no-deps --target /kaggle/working/mmcv_packages\n",
    "# !pip install /kaggle/working/mmcv_wheels/mmcv-full-1.7.2.tar.gz --no-deps --target /kaggle/working/mmcv_packages"
   ]
  },
  {
   "cell_type": "markdown",
   "id": "67d86fa8",
   "metadata": {
    "papermill": {
     "duration": 0.002914,
     "end_time": "2024-12-13T15:22:07.588648",
     "exception": false,
     "start_time": "2024-12-13T15:22:07.585734",
     "status": "completed"
    },
    "tags": []
   },
   "source": [
    "# Building mmcv from source"
   ]
  },
  {
   "cell_type": "code",
   "execution_count": 9,
   "id": "02098a2a",
   "metadata": {
    "execution": {
     "iopub.execute_input": "2024-12-13T15:22:07.595833Z",
     "iopub.status.busy": "2024-12-13T15:22:07.595585Z",
     "iopub.status.idle": "2024-12-13T15:22:07.599062Z",
     "shell.execute_reply": "2024-12-13T15:22:07.598176Z"
    },
    "papermill": {
     "duration": 0.008842,
     "end_time": "2024-12-13T15:22:07.600579",
     "exception": false,
     "start_time": "2024-12-13T15:22:07.591737",
     "status": "completed"
    },
    "tags": []
   },
   "outputs": [],
   "source": [
    "# !git clone https://github.com/open-mmlab/mmcv.git\n",
    "# %cd mmcv"
   ]
  },
  {
   "cell_type": "markdown",
   "id": "0b519118",
   "metadata": {
    "papermill": {
     "duration": 0.002917,
     "end_time": "2024-12-13T15:22:07.606659",
     "exception": false,
     "start_time": "2024-12-13T15:22:07.603742",
     "status": "completed"
    },
    "tags": []
   },
   "source": [
    "## Install full version"
   ]
  },
  {
   "cell_type": "code",
   "execution_count": 10,
   "id": "90e701da",
   "metadata": {
    "execution": {
     "iopub.execute_input": "2024-12-13T15:22:07.613651Z",
     "iopub.status.busy": "2024-12-13T15:22:07.613391Z",
     "iopub.status.idle": "2024-12-13T15:22:07.616678Z",
     "shell.execute_reply": "2024-12-13T15:22:07.615893Z"
    },
    "papermill": {
     "duration": 0.00851,
     "end_time": "2024-12-13T15:22:07.618228",
     "exception": false,
     "start_time": "2024-12-13T15:22:07.609718",
     "status": "completed"
    },
    "tags": []
   },
   "outputs": [],
   "source": [
    "# !MMCV_WITH_OPS=1 pip install -e ."
   ]
  },
  {
   "cell_type": "code",
   "execution_count": 11,
   "id": "d618c369",
   "metadata": {
    "execution": {
     "iopub.execute_input": "2024-12-13T15:22:07.625667Z",
     "iopub.status.busy": "2024-12-13T15:22:07.625220Z",
     "iopub.status.idle": "2024-12-13T15:22:07.628475Z",
     "shell.execute_reply": "2024-12-13T15:22:07.627711Z"
    },
    "papermill": {
     "duration": 0.008554,
     "end_time": "2024-12-13T15:22:07.630030",
     "exception": false,
     "start_time": "2024-12-13T15:22:07.621476",
     "status": "completed"
    },
    "tags": []
   },
   "outputs": [],
   "source": [
    "# !pip install mmengine mmdet"
   ]
  },
  {
   "cell_type": "markdown",
   "id": "c3e242ce",
   "metadata": {
    "papermill": {
     "duration": 0.003007,
     "end_time": "2024-12-13T15:22:07.636290",
     "exception": false,
     "start_time": "2024-12-13T15:22:07.633283",
     "status": "completed"
    },
    "tags": []
   },
   "source": [
    "# Packages"
   ]
  },
  {
   "cell_type": "code",
   "execution_count": 12,
   "id": "2305e5f2",
   "metadata": {
    "execution": {
     "iopub.execute_input": "2024-12-13T15:22:07.643555Z",
     "iopub.status.busy": "2024-12-13T15:22:07.643285Z",
     "iopub.status.idle": "2024-12-13T15:40:19.678839Z",
     "shell.execute_reply": "2024-12-13T15:40:19.677698Z"
    },
    "papermill": {
     "duration": 1092.041646,
     "end_time": "2024-12-13T15:40:19.681073",
     "exception": false,
     "start_time": "2024-12-13T15:22:07.639427",
     "status": "completed"
    },
    "tags": []
   },
   "outputs": [
    {
     "name": "stdout",
     "output_type": "stream",
     "text": [
      "Looking in links: https://download.openmmlab.com/mmcv/dist/cu123/torch2.4/index.html\r\n",
      "Collecting mmcv==2.1.0\r\n",
      "  Downloading mmcv-2.1.0.tar.gz (471 kB)\r\n",
      "\u001b[2K     \u001b[90m━━━━━━━━━━━━━━━━━━━━━━━━━━━━━━━━━━━━━━\u001b[0m \u001b[32m471.4/471.4 kB\u001b[0m \u001b[31m11.3 MB/s\u001b[0m eta \u001b[36m0:00:00\u001b[0m\r\n",
      "\u001b[?25h  Preparing metadata (setup.py) ... \u001b[?25l-\b \b\\\b \bdone\r\n",
      "\u001b[?25hCollecting addict (from mmcv==2.1.0)\r\n",
      "  Downloading addict-2.4.0-py3-none-any.whl.metadata (1.0 kB)\r\n",
      "Collecting mmengine>=0.3.0 (from mmcv==2.1.0)\r\n",
      "  Downloading mmengine-0.10.5-py3-none-any.whl.metadata (20 kB)\r\n",
      "Collecting numpy (from mmcv==2.1.0)\r\n",
      "  Downloading numpy-2.2.0-cp310-cp310-manylinux_2_17_x86_64.manylinux2014_x86_64.whl.metadata (62 kB)\r\n",
      "\u001b[2K     \u001b[90m━━━━━━━━━━━━━━━━━━━━━━━━━━━━━━━━━━━━━━━━\u001b[0m \u001b[32m62.0/62.0 kB\u001b[0m \u001b[31m3.5 MB/s\u001b[0m eta \u001b[36m0:00:00\u001b[0m\r\n",
      "\u001b[?25hCollecting packaging (from mmcv==2.1.0)\r\n",
      "  Downloading packaging-24.2-py3-none-any.whl.metadata (3.2 kB)\r\n",
      "Collecting Pillow (from mmcv==2.1.0)\r\n",
      "  Downloading pillow-11.0.0-cp310-cp310-manylinux_2_28_x86_64.whl.metadata (9.1 kB)\r\n",
      "Collecting pyyaml (from mmcv==2.1.0)\r\n",
      "  Downloading PyYAML-6.0.2-cp310-cp310-manylinux_2_17_x86_64.manylinux2014_x86_64.whl.metadata (2.1 kB)\r\n",
      "Collecting yapf (from mmcv==2.1.0)\r\n",
      "  Downloading yapf-0.43.0-py3-none-any.whl.metadata (46 kB)\r\n",
      "\u001b[2K     \u001b[90m━━━━━━━━━━━━━━━━━━━━━━━━━━━━━━━━━━━━━━━━\u001b[0m \u001b[32m46.8/46.8 kB\u001b[0m \u001b[31m2.9 MB/s\u001b[0m eta \u001b[36m0:00:00\u001b[0m\r\n",
      "\u001b[?25hCollecting matplotlib (from mmengine>=0.3.0->mmcv==2.1.0)\r\n",
      "  Downloading matplotlib-3.9.4-cp310-cp310-manylinux_2_17_x86_64.manylinux2014_x86_64.whl.metadata (11 kB)\r\n",
      "Collecting rich (from mmengine>=0.3.0->mmcv==2.1.0)\r\n",
      "  Downloading rich-13.9.4-py3-none-any.whl.metadata (18 kB)\r\n",
      "Collecting termcolor (from mmengine>=0.3.0->mmcv==2.1.0)\r\n",
      "  Downloading termcolor-2.5.0-py3-none-any.whl.metadata (6.1 kB)\r\n",
      "Collecting opencv-python>=3 (from mmengine>=0.3.0->mmcv==2.1.0)\r\n",
      "  Downloading opencv_python-4.10.0.84-cp37-abi3-manylinux_2_17_x86_64.manylinux2014_x86_64.whl.metadata (20 kB)\r\n",
      "Collecting platformdirs>=3.5.1 (from yapf->mmcv==2.1.0)\r\n",
      "  Downloading platformdirs-4.3.6-py3-none-any.whl.metadata (11 kB)\r\n",
      "Collecting tomli>=2.0.1 (from yapf->mmcv==2.1.0)\r\n",
      "  Downloading tomli-2.2.1-py3-none-any.whl.metadata (10 kB)\r\n",
      "Collecting contourpy>=1.0.1 (from matplotlib->mmengine>=0.3.0->mmcv==2.1.0)\r\n",
      "  Downloading contourpy-1.3.1-cp310-cp310-manylinux_2_17_x86_64.manylinux2014_x86_64.whl.metadata (5.4 kB)\r\n",
      "Collecting cycler>=0.10 (from matplotlib->mmengine>=0.3.0->mmcv==2.1.0)\r\n",
      "  Downloading cycler-0.12.1-py3-none-any.whl.metadata (3.8 kB)\r\n",
      "Collecting fonttools>=4.22.0 (from matplotlib->mmengine>=0.3.0->mmcv==2.1.0)\r\n",
      "  Downloading fonttools-4.55.3-cp310-cp310-manylinux_2_17_x86_64.manylinux2014_x86_64.whl.metadata (165 kB)\r\n",
      "\u001b[2K     \u001b[90m━━━━━━━━━━━━━━━━━━━━━━━━━━━━━━━━━━━━━━\u001b[0m \u001b[32m165.1/165.1 kB\u001b[0m \u001b[31m10.5 MB/s\u001b[0m eta \u001b[36m0:00:00\u001b[0m\r\n",
      "\u001b[?25hCollecting kiwisolver>=1.3.1 (from matplotlib->mmengine>=0.3.0->mmcv==2.1.0)\r\n",
      "  Downloading kiwisolver-1.4.7-cp310-cp310-manylinux_2_12_x86_64.manylinux2010_x86_64.whl.metadata (6.3 kB)\r\n",
      "Collecting pyparsing>=2.3.1 (from matplotlib->mmengine>=0.3.0->mmcv==2.1.0)\r\n",
      "  Downloading pyparsing-3.2.0-py3-none-any.whl.metadata (5.0 kB)\r\n",
      "Collecting python-dateutil>=2.7 (from matplotlib->mmengine>=0.3.0->mmcv==2.1.0)\r\n",
      "  Downloading python_dateutil-2.9.0.post0-py2.py3-none-any.whl.metadata (8.4 kB)\r\n",
      "Collecting markdown-it-py>=2.2.0 (from rich->mmengine>=0.3.0->mmcv==2.1.0)\r\n",
      "  Downloading markdown_it_py-3.0.0-py3-none-any.whl.metadata (6.9 kB)\r\n",
      "Collecting pygments<3.0.0,>=2.13.0 (from rich->mmengine>=0.3.0->mmcv==2.1.0)\r\n",
      "  Downloading pygments-2.18.0-py3-none-any.whl.metadata (2.5 kB)\r\n",
      "Collecting typing-extensions<5.0,>=4.0.0 (from rich->mmengine>=0.3.0->mmcv==2.1.0)\r\n",
      "  Downloading typing_extensions-4.12.2-py3-none-any.whl.metadata (3.0 kB)\r\n",
      "Collecting mdurl~=0.1 (from markdown-it-py>=2.2.0->rich->mmengine>=0.3.0->mmcv==2.1.0)\r\n",
      "  Downloading mdurl-0.1.2-py3-none-any.whl.metadata (1.6 kB)\r\n",
      "Collecting six>=1.5 (from python-dateutil>=2.7->matplotlib->mmengine>=0.3.0->mmcv==2.1.0)\r\n",
      "  Downloading six-1.17.0-py2.py3-none-any.whl.metadata (1.7 kB)\r\n",
      "Downloading mmengine-0.10.5-py3-none-any.whl (452 kB)\r\n",
      "\u001b[2K   \u001b[90m━━━━━━━━━━━━━━━━━━━━━━━━━━━━━━━━━━━━━━━━\u001b[0m \u001b[32m452.3/452.3 kB\u001b[0m \u001b[31m29.3 MB/s\u001b[0m eta \u001b[36m0:00:00\u001b[0m\r\n",
      "\u001b[?25hDownloading addict-2.4.0-py3-none-any.whl (3.8 kB)\r\n",
      "Downloading numpy-2.2.0-cp310-cp310-manylinux_2_17_x86_64.manylinux2014_x86_64.whl (16.4 MB)\r\n",
      "\u001b[2K   \u001b[90m━━━━━━━━━━━━━━━━━━━━━━━━━━━━━━━━━━━━━━━━\u001b[0m \u001b[32m16.4/16.4 MB\u001b[0m \u001b[31m94.6 MB/s\u001b[0m eta \u001b[36m0:00:00\u001b[0m\r\n",
      "\u001b[?25hDownloading packaging-24.2-py3-none-any.whl (65 kB)\r\n",
      "\u001b[2K   \u001b[90m━━━━━━━━━━━━━━━━━━━━━━━━━━━━━━━━━━━━━━━━\u001b[0m \u001b[32m65.5/65.5 kB\u001b[0m \u001b[31m4.6 MB/s\u001b[0m eta \u001b[36m0:00:00\u001b[0m\r\n",
      "\u001b[?25hDownloading pillow-11.0.0-cp310-cp310-manylinux_2_28_x86_64.whl (4.4 MB)\r\n",
      "\u001b[2K   \u001b[90m━━━━━━━━━━━━━━━━━━━━━━━━━━━━━━━━━━━━━━━━\u001b[0m \u001b[32m4.4/4.4 MB\u001b[0m \u001b[31m88.2 MB/s\u001b[0m eta \u001b[36m0:00:00\u001b[0m\r\n",
      "\u001b[?25hDownloading PyYAML-6.0.2-cp310-cp310-manylinux_2_17_x86_64.manylinux2014_x86_64.whl (751 kB)\r\n",
      "\u001b[2K   \u001b[90m━━━━━━━━━━━━━━━━━━━━━━━━━━━━━━━━━━━━━━━━\u001b[0m \u001b[32m751.2/751.2 kB\u001b[0m \u001b[31m40.8 MB/s\u001b[0m eta \u001b[36m0:00:00\u001b[0m\r\n",
      "\u001b[?25hDownloading yapf-0.43.0-py3-none-any.whl (256 kB)\r\n",
      "\u001b[2K   \u001b[90m━━━━━━━━━━━━━━━━━━━━━━━━━━━━━━━━━━━━━━━━\u001b[0m \u001b[32m256.2/256.2 kB\u001b[0m \u001b[31m15.0 MB/s\u001b[0m eta \u001b[36m0:00:00\u001b[0m\r\n",
      "\u001b[?25hDownloading opencv_python-4.10.0.84-cp37-abi3-manylinux_2_17_x86_64.manylinux2014_x86_64.whl (62.5 MB)\r\n",
      "\u001b[2K   \u001b[90m━━━━━━━━━━━━━━━━━━━━━━━━━━━━━━━━━━━━━━━━\u001b[0m \u001b[32m62.5/62.5 MB\u001b[0m \u001b[31m29.9 MB/s\u001b[0m eta \u001b[36m0:00:00\u001b[0m\r\n",
      "\u001b[?25hDownloading platformdirs-4.3.6-py3-none-any.whl (18 kB)\r\n",
      "Downloading tomli-2.2.1-py3-none-any.whl (14 kB)\r\n",
      "Downloading matplotlib-3.9.4-cp310-cp310-manylinux_2_17_x86_64.manylinux2014_x86_64.whl (8.3 MB)\r\n",
      "\u001b[2K   \u001b[90m━━━━━━━━━━━━━━━━━━━━━━━━━━━━━━━━━━━━━━━━\u001b[0m \u001b[32m8.3/8.3 MB\u001b[0m \u001b[31m105.2 MB/s\u001b[0m eta \u001b[36m0:00:00\u001b[0m\r\n",
      "\u001b[?25hDownloading rich-13.9.4-py3-none-any.whl (242 kB)\r\n",
      "\u001b[2K   \u001b[90m━━━━━━━━━━━━━━━━━━━━━━━━━━━━━━━━━━━━━━━━\u001b[0m \u001b[32m242.4/242.4 kB\u001b[0m \u001b[31m16.5 MB/s\u001b[0m eta \u001b[36m0:00:00\u001b[0m\r\n",
      "\u001b[?25hDownloading termcolor-2.5.0-py3-none-any.whl (7.8 kB)\r\n",
      "Downloading contourpy-1.3.1-cp310-cp310-manylinux_2_17_x86_64.manylinux2014_x86_64.whl (324 kB)\r\n",
      "\u001b[2K   \u001b[90m━━━━━━━━━━━━━━━━━━━━━━━━━━━━━━━━━━━━━━━━\u001b[0m \u001b[32m325.0/325.0 kB\u001b[0m \u001b[31m20.5 MB/s\u001b[0m eta \u001b[36m0:00:00\u001b[0m\r\n",
      "\u001b[?25hDownloading cycler-0.12.1-py3-none-any.whl (8.3 kB)\r\n",
      "Downloading fonttools-4.55.3-cp310-cp310-manylinux_2_17_x86_64.manylinux2014_x86_64.whl (4.6 MB)\r\n",
      "\u001b[2K   \u001b[90m━━━━━━━━━━━━━━━━━━━━━━━━━━━━━━━━━━━━━━━━\u001b[0m \u001b[32m4.6/4.6 MB\u001b[0m \u001b[31m101.9 MB/s\u001b[0m eta \u001b[36m0:00:00\u001b[0m\r\n",
      "\u001b[?25hDownloading kiwisolver-1.4.7-cp310-cp310-manylinux_2_12_x86_64.manylinux2010_x86_64.whl (1.6 MB)\r\n",
      "\u001b[2K   \u001b[90m━━━━━━━━━━━━━━━━━━━━━━━━━━━━━━━━━━━━━━━━\u001b[0m \u001b[32m1.6/1.6 MB\u001b[0m \u001b[31m61.5 MB/s\u001b[0m eta \u001b[36m0:00:00\u001b[0m\r\n",
      "\u001b[?25hDownloading markdown_it_py-3.0.0-py3-none-any.whl (87 kB)\r\n",
      "\u001b[2K   \u001b[90m━━━━━━━━━━━━━━━━━━━━━━━━━━━━━━━━━━━━━━━━\u001b[0m \u001b[32m87.5/87.5 kB\u001b[0m \u001b[31m6.2 MB/s\u001b[0m eta \u001b[36m0:00:00\u001b[0m\r\n",
      "\u001b[?25hDownloading pygments-2.18.0-py3-none-any.whl (1.2 MB)\r\n",
      "\u001b[2K   \u001b[90m━━━━━━━━━━━━━━━━━━━━━━━━━━━━━━━━━━━━━━━━\u001b[0m \u001b[32m1.2/1.2 MB\u001b[0m \u001b[31m53.2 MB/s\u001b[0m eta \u001b[36m0:00:00\u001b[0m\r\n",
      "\u001b[?25hDownloading pyparsing-3.2.0-py3-none-any.whl (106 kB)\r\n",
      "\u001b[2K   \u001b[90m━━━━━━━━━━━━━━━━━━━━━━━━━━━━━━━━━━━━━━━━\u001b[0m \u001b[32m106.9/106.9 kB\u001b[0m \u001b[31m7.2 MB/s\u001b[0m eta \u001b[36m0:00:00\u001b[0m\r\n",
      "\u001b[?25hDownloading python_dateutil-2.9.0.post0-py2.py3-none-any.whl (229 kB)\r\n",
      "\u001b[2K   \u001b[90m━━━━━━━━━━━━━━━━━━━━━━━━━━━━━━━━━━━━━━━━\u001b[0m \u001b[32m229.9/229.9 kB\u001b[0m \u001b[31m15.9 MB/s\u001b[0m eta \u001b[36m0:00:00\u001b[0m\r\n",
      "\u001b[?25hDownloading typing_extensions-4.12.2-py3-none-any.whl (37 kB)\r\n",
      "Downloading mdurl-0.1.2-py3-none-any.whl (10.0 kB)\r\n",
      "Downloading six-1.17.0-py2.py3-none-any.whl (11 kB)\r\n",
      "Building wheels for collected packages: mmcv\r\n",
      "  Building wheel for mmcv (setup.py) ... \u001b[?25l-\b \b\\\b \b|\b \b/\b \b-\b \b\\\b \b|\b \b/\b \b-\b \b\\\b \b|\b \b/\b \b-\b \b\\\b \b|\b \b/\b \b-\b \b\\\b \b|\b \b/\b \b-\b \b\\\b \b|\b \b/\b \b-\b \b\\\b \b|\b \b/\b \b-\b \b\\\b \b|\b \b/\b \b-\b \b\\\b \b|\b \b/\b \b-\b \b\\\b \b|\b \b/\b \b-\b \b\\\b \b|\b \b/\b \b-\b \b\\\b \b|\b \b/\b \b-\b \b\\\b \b|\b \b/\b \b-\b \b\\\b \b|\b \b/\b \b-\b \b\\\b \b|\b \b/\b \b-\b \b\\\b \b|\b \b/\b \b-\b \b\\\b \b|\b \b/\b \b-\b \b\\\b \b|\b \b/\b \b-\b \b\\\b \b|\b \b/\b \b-\b \b\\\b \b|\b \b/\b \b-\b \b\\\b \b|\b \b/\b \b-\b \b\\\b \b|\b \b/\b \b-\b \b\\\b \b|\b \b/\b \b-\b \b\\\b \b|\b \b/\b \b-\b \b\\\b \b|\b \b/\b \b-\b \b\\\b \b|\b \b/\b \b-\b \b\\\b \b|\b \b/\b \b-\b \b\\\b \b|\b \b/\b \b-\b \b\\\b \b|\b \b/\b \b-\b \b\\\b \b|\b \b/\b \b-\b \b\\\b \b|\b \b/\b \b-\b \b\\\b \b|\b \b/\b \b-\b \b\\\b \b|\b \b/\b \b-\b \b\\\b \b|\b \bdone\r\n",
      "\u001b[?25h  Created wheel for mmcv: filename=mmcv-2.1.0-cp310-cp310-linux_x86_64.whl size=11268263 sha256=e733f724181f282ac1cbbc06b8aea2167c0266db183f77dcb4152d6394b6f6e6\r\n",
      "  Stored in directory: /root/.cache/pip/wheels/8b/09/35/94a7f7ba6a00e3810abd0492340e4cbba0ff3d443120a94120\r\n",
      "Successfully built mmcv\r\n",
      "Installing collected packages: addict, typing-extensions, tomli, termcolor, six, pyyaml, pyparsing, pygments, platformdirs, Pillow, packaging, numpy, mdurl, kiwisolver, fonttools, cycler, yapf, python-dateutil, opencv-python, markdown-it-py, contourpy, rich, matplotlib, mmengine, mmcv\r\n",
      "\u001b[31mERROR: pip's dependency resolver does not currently take into account all the packages that are installed. This behaviour is the source of the following dependency conflicts.\r\n",
      "cudf 24.10.1 requires cubinlinker, which is not installed.\r\n",
      "cudf 24.10.1 requires cupy-cuda11x>=12.0.0, which is not installed.\r\n",
      "cudf 24.10.1 requires libcudf==24.10.*, which is not installed.\r\n",
      "cudf 24.10.1 requires ptxcompiler, which is not installed.\r\n",
      "cuml 24.10.0 requires cupy-cuda11x>=12.0.0, which is not installed.\r\n",
      "cuml 24.10.0 requires cuvs==24.10.*, which is not installed.\r\n",
      "cuml 24.10.0 requires nvidia-cublas, which is not installed.\r\n",
      "cuml 24.10.0 requires nvidia-cufft, which is not installed.\r\n",
      "cuml 24.10.0 requires nvidia-curand, which is not installed.\r\n",
      "cuml 24.10.0 requires nvidia-cusolver, which is not installed.\r\n",
      "cuml 24.10.0 requires nvidia-cusparse, which is not installed.\r\n",
      "dask-cudf 24.10.1 requires cupy-cuda11x>=12.0.0, which is not installed.\r\n",
      "pylibcudf 24.10.1 requires libcudf==24.10.*, which is not installed.\r\n",
      "pylibraft 24.10.0 requires nvidia-cublas, which is not installed.\r\n",
      "pylibraft 24.10.0 requires nvidia-curand, which is not installed.\r\n",
      "pylibraft 24.10.0 requires nvidia-cusolver, which is not installed.\r\n",
      "pylibraft 24.10.0 requires nvidia-cusparse, which is not installed.\r\n",
      "ucxx 0.40.0 requires libucxx==0.40.*, which is not installed.\r\n",
      "apache-beam 2.46.0 requires cloudpickle~=2.2.1, but you have cloudpickle 3.1.0 which is incompatible.\r\n",
      "apache-beam 2.46.0 requires dill<0.3.2,>=0.3.1.1, but you have dill 0.3.8 which is incompatible.\r\n",
      "apache-beam 2.46.0 requires numpy<1.25.0,>=1.14.3, but you have numpy 2.2.0 which is incompatible.\r\n",
      "apache-beam 2.46.0 requires pyarrow<10.0.0,>=3.0.0, but you have pyarrow 17.0.0 which is incompatible.\r\n",
      "beatrix-jupyterlab 2024.66.154055 requires jupyterlab~=3.6.0, but you have jupyterlab 4.3.1 which is incompatible.\r\n",
      "bigframes 0.22.0 requires google-cloud-bigquery[bqstorage,pandas]>=3.10.0, but you have google-cloud-bigquery 2.34.4 which is incompatible.\r\n",
      "bigframes 0.22.0 requires google-cloud-storage>=2.0.0, but you have google-cloud-storage 1.44.0 which is incompatible.\r\n",
      "bigframes 0.22.0 requires pandas<2.1.4,>=1.5.0, but you have pandas 2.2.3 which is incompatible.\r\n",
      "catboost 1.2.7 requires numpy<2.0,>=1.16.0, but you have numpy 2.2.0 which is incompatible.\r\n",
      "cudf 24.10.1 requires cuda-python<12.0a0,>=11.7.1, but you have cuda-python 12.6.2.post1 which is incompatible.\r\n",
      "cudf 24.10.1 requires pandas<2.2.3dev0,>=2.0, but you have pandas 2.2.3 which is incompatible.\r\n",
      "dask-cudf 24.10.1 requires pandas<2.2.3dev0,>=2.0, but you have pandas 2.2.3 which is incompatible.\r\n",
      "dataproc-jupyter-plugin 0.1.79 requires pydantic~=1.10.0, but you have pydantic 2.10.1 which is incompatible.\r\n",
      "distributed 2024.9.0 requires dask==2024.9.0, but you have dask 2024.11.2 which is incompatible.\r\n",
      "gensim 4.3.3 requires numpy<2.0,>=1.18.5, but you have numpy 2.2.0 which is incompatible.\r\n",
      "gensim 4.3.3 requires scipy<1.14.0,>=1.7.0, but you have scipy 1.14.1 which is incompatible.\r\n",
      "google-cloud-bigquery 2.34.4 requires packaging<22.0dev,>=14.3, but you have packaging 24.2 which is incompatible.\r\n",
      "ibis-framework 7.1.0 requires numpy<2,>=1, but you have numpy 2.2.0 which is incompatible.\r\n",
      "ibis-framework 7.1.0 requires pyarrow<15,>=2, but you have pyarrow 17.0.0 which is incompatible.\r\n",
      "jupyterlab 4.3.1 requires jupyter-lsp>=2.0.0, but you have jupyter-lsp 1.5.1 which is incompatible.\r\n",
      "jupyterlab-lsp 5.1.0 requires jupyter-lsp>=2.0.0, but you have jupyter-lsp 1.5.1 which is incompatible.\r\n",
      "kfp 2.5.0 requires google-cloud-storage<3,>=2.2.1, but you have google-cloud-storage 1.44.0 which is incompatible.\r\n",
      "libpysal 4.9.2 requires shapely>=2.0.1, but you have shapely 1.8.5.post1 which is incompatible.\r\n",
      "mlxtend 0.23.3 requires scikit-learn>=1.3.1, but you have scikit-learn 1.2.2 which is incompatible.\r\n",
      "numba 0.60.0 requires numpy<2.1,>=1.22, but you have numpy 2.2.0 which is incompatible.\r\n",
      "pylibcudf 24.10.1 requires cuda-python<12.0a0,>=11.7.1, but you have cuda-python 12.6.2.post1 which is incompatible.\r\n",
      "rapids-dask-dependency 24.10.0a0 requires dask==2024.9.0, but you have dask 2024.11.2 which is incompatible.\r\n",
      "rapids-dask-dependency 24.10.0a0 requires dask-expr==1.1.14, but you have dask-expr 1.1.19 which is incompatible.\r\n",
      "rmm 24.10.0 requires cuda-python<12.0a0,>=11.7.1, but you have cuda-python 12.6.2.post1 which is incompatible.\r\n",
      "tensorflow 2.16.1 requires numpy<2.0.0,>=1.23.5; python_version <= \"3.11\", but you have numpy 2.2.0 which is incompatible.\r\n",
      "tensorflow-transform 0.14.0 requires numpy<2,>=1.16, but you have numpy 2.2.0 which is incompatible.\r\n",
      "textblob 0.18.0.post0 requires nltk>=3.8, but you have nltk 3.2.4 which is incompatible.\r\n",
      "thinc 8.3.2 requires numpy<2.1.0,>=2.0.0; python_version >= \"3.9\", but you have numpy 2.2.0 which is incompatible.\r\n",
      "virtualenv 20.21.0 requires platformdirs<4,>=2.4, but you have platformdirs 4.3.6 which is incompatible.\r\n",
      "ydata-profiling 4.12.0 requires numpy<2.2,>=1.16.0, but you have numpy 2.2.0 which is incompatible.\r\n",
      "ydata-profiling 4.12.0 requires scipy<1.14,>=1.4.1, but you have scipy 1.14.1 which is incompatible.\u001b[0m\u001b[31m\r\n",
      "\u001b[0mSuccessfully installed Pillow-11.0.0 addict-2.4.0 contourpy-1.3.1 cycler-0.12.1 fonttools-4.55.3 kiwisolver-1.4.7 markdown-it-py-3.0.0 matplotlib-3.9.4 mdurl-0.1.2 mmcv-2.1.0 mmengine-0.10.5 numpy-2.2.0 opencv-python-4.10.0.84 packaging-24.2 platformdirs-4.3.6 pygments-2.18.0 pyparsing-3.2.0 python-dateutil-2.9.0.post0 pyyaml-6.0.2 rich-13.9.4 six-1.17.0 termcolor-2.5.0 tomli-2.2.1 typing-extensions-4.12.2 yapf-0.43.0\r\n"
     ]
    }
   ],
   "source": [
    "!pip install mmcv==2.1.0 -f https://download.openmmlab.com/mmcv/dist/cu123/torch2.4/index.html -t /kaggle/working/mmcv_site_packages"
   ]
  }
 ],
 "metadata": {
  "kaggle": {
   "accelerator": "gpu",
   "dataSources": [],
   "dockerImageVersionId": 30805,
   "isGpuEnabled": true,
   "isInternetEnabled": true,
   "language": "python",
   "sourceType": "notebook"
  },
  "kernelspec": {
   "display_name": "Python 3",
   "language": "python",
   "name": "python3"
  },
  "language_info": {
   "codemirror_mode": {
    "name": "ipython",
    "version": 3
   },
   "file_extension": ".py",
   "mimetype": "text/x-python",
   "name": "python",
   "nbconvert_exporter": "python",
   "pygments_lexer": "ipython3",
   "version": "3.10.14"
  },
  "papermill": {
   "default_parameters": {},
   "duration": 1102.687405,
   "end_time": "2024-12-13T15:40:20.011346",
   "environment_variables": {},
   "exception": null,
   "input_path": "__notebook__.ipynb",
   "output_path": "__notebook__.ipynb",
   "parameters": {},
   "start_time": "2024-12-13T15:21:57.323941",
   "version": "2.6.0"
  }
 },
 "nbformat": 4,
 "nbformat_minor": 5
}
