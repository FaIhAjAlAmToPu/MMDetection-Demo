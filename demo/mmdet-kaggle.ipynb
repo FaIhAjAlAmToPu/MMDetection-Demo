{
 "cells": [
  {
   "cell_type": "markdown",
   "id": "47b782a5",
   "metadata": {
    "papermill": {
     "duration": 0.002047,
     "end_time": "2024-12-12T08:02:28.594201",
     "exception": false,
     "start_time": "2024-12-12T08:02:28.592154",
     "status": "completed"
    },
    "tags": []
   },
   "source": [
    "## For mmcv installation\n",
    "### [mmcv](https://www.kaggle.com/code/faihajalamtopu/mmcv-kaggle)\n",
    "> According to documentation, for torch 2.2.x and above, The only compatible version of mmcv is 2.2.0.\r\n",
    "But mmdet is restricted to mmcv<2.2.0, so it's impossible to use mmdet and mmcv together with versions above torch 2.2.x\n",
    "> https://github.com/open-mmlab/mmdetection/pull/11680."
   ]
  },
  {
   "cell_type": "code",
   "execution_count": 1,
   "id": "e649d826",
   "metadata": {
    "execution": {
     "iopub.execute_input": "2024-12-12T08:02:28.599860Z",
     "iopub.status.busy": "2024-12-12T08:02:28.598807Z",
     "iopub.status.idle": "2024-12-12T08:20:18.600550Z",
     "shell.execute_reply": "2024-12-12T08:20:18.599446Z"
    },
    "papermill": {
     "duration": 1070.006622,
     "end_time": "2024-12-12T08:20:18.602740",
     "exception": false,
     "start_time": "2024-12-12T08:02:28.596118",
     "status": "completed"
    },
    "tags": []
   },
   "outputs": [
    {
     "name": "stdout",
     "output_type": "stream",
     "text": [
      "Looking in links: https://download.openmmlab.com/mmcv/dist/cu123/torch2.4/index.html\r\n",
      "Collecting mmcv==2.1.0\r\n",
      "  Downloading mmcv-2.1.0.tar.gz (471 kB)\r\n",
      "\u001b[2K     \u001b[90m━━━━━━━━━━━━━━━━━━━━━━━━━━━━━━━━━━━━━━\u001b[0m \u001b[32m471.4/471.4 kB\u001b[0m \u001b[31m21.6 MB/s\u001b[0m eta \u001b[36m0:00:00\u001b[0m\r\n",
      "\u001b[?25h  Preparing metadata (setup.py) ... \u001b[?25l-\b \b\\\b \bdone\r\n",
      "\u001b[?25hCollecting addict (from mmcv==2.1.0)\r\n",
      "  Downloading addict-2.4.0-py3-none-any.whl.metadata (1.0 kB)\r\n",
      "Collecting mmengine>=0.3.0 (from mmcv==2.1.0)\r\n",
      "  Downloading mmengine-0.10.5-py3-none-any.whl.metadata (20 kB)\r\n",
      "Requirement already satisfied: numpy in /opt/conda/lib/python3.10/site-packages (from mmcv==2.1.0) (1.26.4)\r\n",
      "Requirement already satisfied: packaging in /opt/conda/lib/python3.10/site-packages (from mmcv==2.1.0) (21.3)\r\n",
      "Requirement already satisfied: Pillow in /opt/conda/lib/python3.10/site-packages (from mmcv==2.1.0) (10.3.0)\r\n",
      "Requirement already satisfied: pyyaml in /opt/conda/lib/python3.10/site-packages (from mmcv==2.1.0) (6.0.2)\r\n",
      "Requirement already satisfied: yapf in /opt/conda/lib/python3.10/site-packages (from mmcv==2.1.0) (0.43.0)\r\n",
      "Requirement already satisfied: matplotlib in /opt/conda/lib/python3.10/site-packages (from mmengine>=0.3.0->mmcv==2.1.0) (3.7.5)\r\n",
      "Requirement already satisfied: rich in /opt/conda/lib/python3.10/site-packages (from mmengine>=0.3.0->mmcv==2.1.0) (13.7.1)\r\n",
      "Requirement already satisfied: termcolor in /opt/conda/lib/python3.10/site-packages (from mmengine>=0.3.0->mmcv==2.1.0) (2.4.0)\r\n",
      "Requirement already satisfied: opencv-python>=3 in /opt/conda/lib/python3.10/site-packages (from mmengine>=0.3.0->mmcv==2.1.0) (4.10.0.84)\r\n",
      "Requirement already satisfied: pyparsing!=3.0.5,>=2.0.2 in /opt/conda/lib/python3.10/site-packages (from packaging->mmcv==2.1.0) (3.1.2)\r\n",
      "Requirement already satisfied: platformdirs>=3.5.1 in /opt/conda/lib/python3.10/site-packages (from yapf->mmcv==2.1.0) (3.11.0)\r\n",
      "Requirement already satisfied: tomli>=2.0.1 in /opt/conda/lib/python3.10/site-packages (from yapf->mmcv==2.1.0) (2.0.1)\r\n",
      "Requirement already satisfied: contourpy>=1.0.1 in /opt/conda/lib/python3.10/site-packages (from matplotlib->mmengine>=0.3.0->mmcv==2.1.0) (1.2.1)\r\n",
      "Requirement already satisfied: cycler>=0.10 in /opt/conda/lib/python3.10/site-packages (from matplotlib->mmengine>=0.3.0->mmcv==2.1.0) (0.12.1)\r\n",
      "Requirement already satisfied: fonttools>=4.22.0 in /opt/conda/lib/python3.10/site-packages (from matplotlib->mmengine>=0.3.0->mmcv==2.1.0) (4.53.0)\r\n",
      "Requirement already satisfied: kiwisolver>=1.0.1 in /opt/conda/lib/python3.10/site-packages (from matplotlib->mmengine>=0.3.0->mmcv==2.1.0) (1.4.5)\r\n",
      "Requirement already satisfied: python-dateutil>=2.7 in /opt/conda/lib/python3.10/site-packages (from matplotlib->mmengine>=0.3.0->mmcv==2.1.0) (2.9.0.post0)\r\n",
      "Requirement already satisfied: markdown-it-py>=2.2.0 in /opt/conda/lib/python3.10/site-packages (from rich->mmengine>=0.3.0->mmcv==2.1.0) (3.0.0)\r\n",
      "Requirement already satisfied: pygments<3.0.0,>=2.13.0 in /opt/conda/lib/python3.10/site-packages (from rich->mmengine>=0.3.0->mmcv==2.1.0) (2.18.0)\r\n",
      "Requirement already satisfied: mdurl~=0.1 in /opt/conda/lib/python3.10/site-packages (from markdown-it-py>=2.2.0->rich->mmengine>=0.3.0->mmcv==2.1.0) (0.1.2)\r\n",
      "Requirement already satisfied: six>=1.5 in /opt/conda/lib/python3.10/site-packages (from python-dateutil>=2.7->matplotlib->mmengine>=0.3.0->mmcv==2.1.0) (1.16.0)\r\n",
      "Downloading mmengine-0.10.5-py3-none-any.whl (452 kB)\r\n",
      "\u001b[2K   \u001b[90m━━━━━━━━━━━━━━━━━━━━━━━━━━━━━━━━━━━━━━━━\u001b[0m \u001b[32m452.3/452.3 kB\u001b[0m \u001b[31m28.5 MB/s\u001b[0m eta \u001b[36m0:00:00\u001b[0m\r\n",
      "\u001b[?25hDownloading addict-2.4.0-py3-none-any.whl (3.8 kB)\r\n",
      "Building wheels for collected packages: mmcv\r\n",
      "  Building wheel for mmcv (setup.py) ... \u001b[?25l-\b \b\\\b \b|\b \b/\b \b-\b \b\\\b \b|\b \b/\b \b-\b \b\\\b \b|\b \b/\b \b-\b \b\\\b \b|\b \b/\b \b-\b \b\\\b \b|\b \b/\b \b-\b \b\\\b \b|\b \b/\b \b-\b \b\\\b \b|\b \b/\b \b-\b \b\\\b \b|\b \b/\b \b-\b \b\\\b \b|\b \b/\b \b-\b \b\\\b \b|\b \b/\b \b-\b \b\\\b \b|\b \b/\b \b-\b \b\\\b \b|\b \b/\b \b-\b \b\\\b \b|\b \b/\b \b-\b \b\\\b \b|\b \b/\b \b-\b \b\\\b \b|\b \b/\b \b-\b \b\\\b \b|\b \b/\b \b-\b \b\\\b \b|\b \b/\b \b-\b \b\\\b \b|\b \b/\b \b-\b \b\\\b \b|\b \b/\b \b-\b \b\\\b \b|\b \b/\b \b-\b \b\\\b \b|\b \b/\b \b-\b \b\\\b \b|\b \b/\b \b-\b \b\\\b \b|\b \b/\b \b-\b \b\\\b \b|\b \b/\b \b-\b \b\\\b \b|\b \b/\b \b-\b \b\\\b \b|\b \b/\b \b-\b \b\\\b \b|\b \b/\b \b-\b \b\\\b \b|\b \b/\b \b-\b \b\\\b \b|\b \b/\b \b-\b \b\\\b \b|\b \b/\b \b-\b \b\\\b \b|\b \b/\b \b-\b \b\\\b \b|\b \b/\b \b-\b \b\\\b \bdone\r\n",
      "\u001b[?25h  Created wheel for mmcv: filename=mmcv-2.1.0-cp310-cp310-linux_x86_64.whl size=11268303 sha256=35aa8bd3e15480e9d1a4dfdea59acfc6d62bfff80cf7ede3a6a642422040c383\r\n",
      "  Stored in directory: /root/.cache/pip/wheels/8b/09/35/94a7f7ba6a00e3810abd0492340e4cbba0ff3d443120a94120\r\n",
      "Successfully built mmcv\r\n",
      "Installing collected packages: addict, mmengine, mmcv\r\n",
      "Successfully installed addict-2.4.0 mmcv-2.1.0 mmengine-0.10.5\r\n"
     ]
    }
   ],
   "source": [
    "!pip install mmcv==2.1.0 -f https://download.openmmlab.com/mmcv/dist/cu123/torch2.4/index.html"
   ]
  },
  {
   "cell_type": "code",
   "execution_count": 2,
   "id": "1c76cfbd",
   "metadata": {
    "_cell_guid": "b1076dfc-b9ad-4769-8c92-a6c4dae69d19",
    "_uuid": "8f2839f25d086af736a60e9eeb907d3b93b6e0e5",
    "execution": {
     "iopub.execute_input": "2024-12-12T08:20:18.619936Z",
     "iopub.status.busy": "2024-12-12T08:20:18.619631Z",
     "iopub.status.idle": "2024-12-12T08:20:43.088006Z",
     "shell.execute_reply": "2024-12-12T08:20:43.087092Z"
    },
    "papermill": {
     "duration": 24.479282,
     "end_time": "2024-12-12T08:20:43.090089",
     "exception": false,
     "start_time": "2024-12-12T08:20:18.610807",
     "status": "completed"
    },
    "tags": []
   },
   "outputs": [
    {
     "name": "stdout",
     "output_type": "stream",
     "text": [
      "Cloning into 'mmdetection'...\r\n",
      "remote: Enumerating objects: 38023, done.\u001b[K\r\n",
      "remote: Total 38023 (delta 0), reused 0 (delta 0), pack-reused 38023 (from 1)\u001b[K\r\n",
      "Receiving objects: 100% (38023/38023), 63.18 MiB | 13.97 MiB/s, done.\r\n",
      "Resolving deltas: 100% (26233/26233), done.\r\n",
      "/kaggle/working/mmdetection\n",
      "Using pip 24.0 from /opt/conda/lib/python3.10/site-packages/pip (python 3.10)\r\n",
      "Obtaining file:///kaggle/working/mmdetection\r\n",
      "  Running command python setup.py egg_info\r\n",
      "  Preparing metadata (setup.py) ... \u001b[?25l\u001b[?25hdone\r\n",
      "Requirement already satisfied: matplotlib in /opt/conda/lib/python3.10/site-packages (from mmdet==3.3.0) (3.7.5)\r\n",
      "Requirement already satisfied: numpy in /opt/conda/lib/python3.10/site-packages (from mmdet==3.3.0) (1.26.4)\r\n",
      "Collecting pycocotools (from mmdet==3.3.0)\r\n",
      "  Obtaining dependency information for pycocotools from https://files.pythonhosted.org/packages/6a/03/6c0bf810a5df7876caaf11f5b113e7ffd4b2fa9767d360489c6fdcefe8e5/pycocotools-2.0.8-cp310-cp310-manylinux_2_17_x86_64.manylinux2014_x86_64.whl.metadata\r\n",
      "  Downloading pycocotools-2.0.8-cp310-cp310-manylinux_2_17_x86_64.manylinux2014_x86_64.whl.metadata (1.1 kB)\r\n",
      "Requirement already satisfied: scipy in /opt/conda/lib/python3.10/site-packages (from mmdet==3.3.0) (1.14.1)\r\n",
      "Requirement already satisfied: shapely in /opt/conda/lib/python3.10/site-packages (from mmdet==3.3.0) (1.8.5.post1)\r\n",
      "Requirement already satisfied: six in /opt/conda/lib/python3.10/site-packages (from mmdet==3.3.0) (1.16.0)\r\n",
      "Collecting terminaltables (from mmdet==3.3.0)\r\n",
      "  Obtaining dependency information for terminaltables from https://files.pythonhosted.org/packages/c4/fb/ea621e0a19733e01fe4005d46087d383693c0f4a8f824b47d8d4122c87e0/terminaltables-3.1.10-py2.py3-none-any.whl.metadata\r\n",
      "  Downloading terminaltables-3.1.10-py2.py3-none-any.whl.metadata (3.5 kB)\r\n",
      "Requirement already satisfied: tqdm in /opt/conda/lib/python3.10/site-packages (from mmdet==3.3.0) (4.66.4)\r\n",
      "Requirement already satisfied: contourpy>=1.0.1 in /opt/conda/lib/python3.10/site-packages (from matplotlib->mmdet==3.3.0) (1.2.1)\r\n",
      "Requirement already satisfied: cycler>=0.10 in /opt/conda/lib/python3.10/site-packages (from matplotlib->mmdet==3.3.0) (0.12.1)\r\n",
      "Requirement already satisfied: fonttools>=4.22.0 in /opt/conda/lib/python3.10/site-packages (from matplotlib->mmdet==3.3.0) (4.53.0)\r\n",
      "Requirement already satisfied: kiwisolver>=1.0.1 in /opt/conda/lib/python3.10/site-packages (from matplotlib->mmdet==3.3.0) (1.4.5)\r\n",
      "Requirement already satisfied: packaging>=20.0 in /opt/conda/lib/python3.10/site-packages (from matplotlib->mmdet==3.3.0) (21.3)\r\n",
      "Requirement already satisfied: pillow>=6.2.0 in /opt/conda/lib/python3.10/site-packages (from matplotlib->mmdet==3.3.0) (10.3.0)\r\n",
      "Requirement already satisfied: pyparsing>=2.3.1 in /opt/conda/lib/python3.10/site-packages (from matplotlib->mmdet==3.3.0) (3.1.2)\r\n",
      "Requirement already satisfied: python-dateutil>=2.7 in /opt/conda/lib/python3.10/site-packages (from matplotlib->mmdet==3.3.0) (2.9.0.post0)\r\n",
      "Downloading pycocotools-2.0.8-cp310-cp310-manylinux_2_17_x86_64.manylinux2014_x86_64.whl (427 kB)\r\n",
      "\u001b[2K   \u001b[90m━━━━━━━━━━━━━━━━━━━━━━━━━━━━━━━━━━━━━━━━\u001b[0m \u001b[32m427.8/427.8 kB\u001b[0m \u001b[31m24.1 MB/s\u001b[0m eta \u001b[36m0:00:00\u001b[0m\r\n",
      "\u001b[?25hDownloading terminaltables-3.1.10-py2.py3-none-any.whl (15 kB)\r\n",
      "Installing collected packages: terminaltables, pycocotools, mmdet\r\n",
      "  Running setup.py develop for mmdet\r\n",
      "    Running command python setup.py develop\r\n",
      "    /opt/conda/lib/python3.10/site-packages/setuptools/command/develop.py:42: EasyInstallDeprecationWarning: easy_install command is deprecated.\r\n",
      "    !!\r\n",
      "\r\n",
      "            ********************************************************************************\r\n",
      "            Please avoid running ``setup.py`` and ``easy_install``.\r\n",
      "            Instead, use pypa/build, pypa/installer or other\r\n",
      "            standards-based tools.\r\n",
      "\r\n",
      "            See https://github.com/pypa/setuptools/issues/917 for details.\r\n",
      "            ********************************************************************************\r\n",
      "\r\n",
      "    !!\r\n",
      "      easy_install.initialize_options(self)\r\n",
      "    /opt/conda/lib/python3.10/site-packages/setuptools/_distutils/cmd.py:66: SetuptoolsDeprecationWarning: setup.py install is deprecated.\r\n",
      "    !!\r\n",
      "\r\n",
      "            ********************************************************************************\r\n",
      "            Please avoid running ``setup.py`` directly.\r\n",
      "            Instead, use pypa/build, pypa/installer or other\r\n",
      "            standards-based tools.\r\n",
      "\r\n",
      "            See https://blog.ganssle.io/articles/2021/10/setup-py-deprecated.html for details.\r\n",
      "            ********************************************************************************\r\n",
      "\r\n",
      "    !!\r\n",
      "      self.initialize_options()\r\n",
      "Successfully installed mmdet-3.3.0 pycocotools-2.0.8 terminaltables-3.1.10\r\n"
     ]
    }
   ],
   "source": [
    "!git clone https://github.com/open-mmlab/mmdetection.git\n",
    "%cd mmdetection\n",
    "!pip install -v -e ."
   ]
  },
  {
   "cell_type": "code",
   "execution_count": 3,
   "id": "eda6608d",
   "metadata": {
    "execution": {
     "iopub.execute_input": "2024-12-12T08:20:43.112715Z",
     "iopub.status.busy": "2024-12-12T08:20:43.112417Z",
     "iopub.status.idle": "2024-12-12T08:20:44.910866Z",
     "shell.execute_reply": "2024-12-12T08:20:44.909805Z"
    },
    "papermill": {
     "duration": 1.811335,
     "end_time": "2024-12-12T08:20:44.912751",
     "exception": false,
     "start_time": "2024-12-12T08:20:43.101416",
     "status": "completed"
    },
    "tags": []
   },
   "outputs": [
    {
     "name": "stdout",
     "output_type": "stream",
     "text": [
      "MMCV version: 2.1.0\n",
      "MMDetection version: 3.3.0\n",
      "MMEngine version: 0.10.5\n"
     ]
    }
   ],
   "source": [
    "import mmcv\n",
    "import mmengine\n",
    "import mmdet\n",
    "\n",
    "print(f\"MMCV version: {mmcv.__version__}\")\n",
    "print(f\"MMDetection version: {mmdet.__version__}\")\n",
    "print(f\"MMEngine version: {mmengine.__version__}\")\n"
   ]
  }
 ],
 "metadata": {
  "kaggle": {
   "accelerator": "gpu",
   "dataSources": [
    {
     "datasetId": 6283427,
     "sourceId": 10173387,
     "sourceType": "datasetVersion"
    }
   ],
   "dockerImageVersionId": 30805,
   "isGpuEnabled": true,
   "isInternetEnabled": true,
   "language": "python",
   "sourceType": "notebook"
  },
  "kernelspec": {
   "display_name": "Python 3",
   "language": "python",
   "name": "python3"
  },
  "language_info": {
   "codemirror_mode": {
    "name": "ipython",
    "version": 3
   },
   "file_extension": ".py",
   "mimetype": "text/x-python",
   "name": "python",
   "nbconvert_exporter": "python",
   "pygments_lexer": "ipython3",
   "version": "3.10.14"
  },
  "papermill": {
   "default_parameters": {},
   "duration": 1099.286816,
   "end_time": "2024-12-12T08:20:45.544017",
   "environment_variables": {},
   "exception": null,
   "input_path": "__notebook__.ipynb",
   "output_path": "__notebook__.ipynb",
   "parameters": {},
   "start_time": "2024-12-12T08:02:26.257201",
   "version": "2.6.0"
  }
 },
 "nbformat": 4,
 "nbformat_minor": 5
}
