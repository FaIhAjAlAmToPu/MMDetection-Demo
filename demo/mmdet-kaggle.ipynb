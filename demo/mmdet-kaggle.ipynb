{
 "cells": [
  {
   "cell_type": "markdown",
   "id": "157c0706",
   "metadata": {
    "papermill": {
     "duration": 0.002407,
     "end_time": "2024-12-13T14:56:11.751083",
     "exception": false,
     "start_time": "2024-12-13T14:56:11.748676",
     "status": "completed"
    },
    "tags": []
   },
   "source": [
    "# For mmcv installation\n",
    "### [mmcv](https://www.kaggle.com/code/faihajalamtopu/mmcv-kaggle)\n",
    "> According to documentation, for torch 2.2.x and above, The only compatible version of mmcv is 2.2.0.\r\n",
    "But mmdet is restricted to mmcv<2.2.0, so it's impossible to use mmdet and mmcv together with versions above torch 2.2.x\n",
    "> https://github.com/open-mmlab/mmdetection/pull/11680."
   ]
  },
  {
   "cell_type": "code",
   "execution_count": 1,
   "id": "7baa5b27",
   "metadata": {
    "collapsed": true,
    "execution": {
     "iopub.execute_input": "2024-12-13T14:56:11.756297Z",
     "iopub.status.busy": "2024-12-13T14:56:11.755994Z",
     "iopub.status.idle": "2024-12-13T14:56:11.760217Z",
     "shell.execute_reply": "2024-12-13T14:56:11.759583Z"
    },
    "jupyter": {
     "outputs_hidden": true
    },
    "papermill": {
     "duration": 0.008614,
     "end_time": "2024-12-13T14:56:11.761858",
     "exception": false,
     "start_time": "2024-12-13T14:56:11.753244",
     "status": "completed"
    },
    "tags": []
   },
   "outputs": [],
   "source": [
    "# !pip install mmcv==2.1.0 -f https://download.openmmlab.com/mmcv/dist/cu123/torch2.4/index.html"
   ]
  },
  {
   "cell_type": "code",
   "execution_count": 2,
   "id": "2856697b",
   "metadata": {
    "_cell_guid": "b1076dfc-b9ad-4769-8c92-a6c4dae69d19",
    "_uuid": "8f2839f25d086af736a60e9eeb907d3b93b6e0e5",
    "collapsed": true,
    "execution": {
     "iopub.execute_input": "2024-12-13T14:56:11.766558Z",
     "iopub.status.busy": "2024-12-13T14:56:11.766306Z",
     "iopub.status.idle": "2024-12-13T14:56:11.769682Z",
     "shell.execute_reply": "2024-12-13T14:56:11.768908Z"
    },
    "jupyter": {
     "outputs_hidden": true
    },
    "papermill": {
     "duration": 0.007467,
     "end_time": "2024-12-13T14:56:11.771236",
     "exception": false,
     "start_time": "2024-12-13T14:56:11.763769",
     "status": "completed"
    },
    "tags": []
   },
   "outputs": [],
   "source": [
    "# !git clone https://github.com/open-mmlab/mmdetection.git\n",
    "# %cd mmdetection\n",
    "# !pip install -v -e ."
   ]
  },
  {
   "cell_type": "code",
   "execution_count": 3,
   "id": "3ff65800",
   "metadata": {
    "execution": {
     "iopub.execute_input": "2024-12-13T14:56:11.775836Z",
     "iopub.status.busy": "2024-12-13T14:56:11.775599Z",
     "iopub.status.idle": "2024-12-13T14:56:11.778847Z",
     "shell.execute_reply": "2024-12-13T14:56:11.778085Z"
    },
    "papermill": {
     "duration": 0.007329,
     "end_time": "2024-12-13T14:56:11.780443",
     "exception": false,
     "start_time": "2024-12-13T14:56:11.773114",
     "status": "completed"
    },
    "tags": []
   },
   "outputs": [],
   "source": [
    "# import mmcv\n",
    "# import mmengine\n",
    "# import mmdet\n",
    "\n",
    "# print(f\"MMCV version: {mmcv.__version__}\")\n",
    "# print(f\"MMDetection version: {mmdet.__version__}\")\n",
    "# print(f\"MMEngine version: {mmengine.__version__}\")\n"
   ]
  },
  {
   "cell_type": "markdown",
   "id": "01173f66",
   "metadata": {
    "papermill": {
     "duration": 0.00167,
     "end_time": "2024-12-13T14:56:11.784049",
     "exception": false,
     "start_time": "2024-12-13T14:56:11.782379",
     "status": "completed"
    },
    "tags": []
   },
   "source": [
    "# Packages\n",
    "\n",
    "**More greater control??**\n",
    "* Go to Add-ons\n",
    "* Install Dependencies\n",
    "* write the installation command for depende"
   ]
  },
  {
   "cell_type": "markdown",
   "id": "b57a7658",
   "metadata": {
    "papermill": {
     "duration": 0.001635,
     "end_time": "2024-12-13T14:56:11.787543",
     "exception": false,
     "start_time": "2024-12-13T14:56:11.785908",
     "status": "completed"
    },
    "tags": []
   },
   "source": [
    "**There could be error or warning**\n",
    "**but should work after appending with sys**"
   ]
  },
  {
   "cell_type": "code",
   "execution_count": 4,
   "id": "1e54f4e8",
   "metadata": {
    "execution": {
     "iopub.execute_input": "2024-12-13T14:56:11.792019Z",
     "iopub.status.busy": "2024-12-13T14:56:11.791779Z",
     "iopub.status.idle": "2024-12-13T15:14:13.740694Z",
     "shell.execute_reply": "2024-12-13T15:14:13.739626Z"
    },
    "papermill": {
     "duration": 1081.953607,
     "end_time": "2024-12-13T15:14:13.742958",
     "exception": false,
     "start_time": "2024-12-13T14:56:11.789351",
     "status": "completed"
    },
    "tags": []
   },
   "outputs": [
    {
     "name": "stdout",
     "output_type": "stream",
     "text": [
      "Looking in links: https://download.openmmlab.com/mmcv/dist/cu123/torch2.4/index.html\r\n",
      "Collecting mmcv==2.1.0\r\n",
      "  Downloading mmcv-2.1.0.tar.gz (471 kB)\r\n",
      "\u001b[2K     \u001b[90m━━━━━━━━━━━━━━━━━━━━━━━━━━━━━━━━━━━━━━\u001b[0m \u001b[32m471.4/471.4 kB\u001b[0m \u001b[31m12.2 MB/s\u001b[0m eta \u001b[36m0:00:00\u001b[0m\r\n",
      "\u001b[?25h  Preparing metadata (setup.py) ... \u001b[?25l-\b \b\\\b \bdone\r\n",
      "\u001b[?25hCollecting addict (from mmcv==2.1.0)\r\n",
      "  Downloading addict-2.4.0-py3-none-any.whl.metadata (1.0 kB)\r\n",
      "Collecting mmengine>=0.3.0 (from mmcv==2.1.0)\r\n",
      "  Downloading mmengine-0.10.5-py3-none-any.whl.metadata (20 kB)\r\n",
      "Collecting numpy (from mmcv==2.1.0)\r\n",
      "  Downloading numpy-2.2.0-cp310-cp310-manylinux_2_17_x86_64.manylinux2014_x86_64.whl.metadata (62 kB)\r\n",
      "\u001b[2K     \u001b[90m━━━━━━━━━━━━━━━━━━━━━━━━━━━━━━━━━━━━━━━━\u001b[0m \u001b[32m62.0/62.0 kB\u001b[0m \u001b[31m4.0 MB/s\u001b[0m eta \u001b[36m0:00:00\u001b[0m\r\n",
      "\u001b[?25hCollecting packaging (from mmcv==2.1.0)\r\n",
      "  Downloading packaging-24.2-py3-none-any.whl.metadata (3.2 kB)\r\n",
      "Collecting Pillow (from mmcv==2.1.0)\r\n",
      "  Downloading pillow-11.0.0-cp310-cp310-manylinux_2_28_x86_64.whl.metadata (9.1 kB)\r\n",
      "Collecting pyyaml (from mmcv==2.1.0)\r\n",
      "  Downloading PyYAML-6.0.2-cp310-cp310-manylinux_2_17_x86_64.manylinux2014_x86_64.whl.metadata (2.1 kB)\r\n",
      "Collecting yapf (from mmcv==2.1.0)\r\n",
      "  Downloading yapf-0.43.0-py3-none-any.whl.metadata (46 kB)\r\n",
      "\u001b[2K     \u001b[90m━━━━━━━━━━━━━━━━━━━━━━━━━━━━━━━━━━━━━━━━\u001b[0m \u001b[32m46.8/46.8 kB\u001b[0m \u001b[31m3.2 MB/s\u001b[0m eta \u001b[36m0:00:00\u001b[0m\r\n",
      "\u001b[?25hCollecting matplotlib (from mmengine>=0.3.0->mmcv==2.1.0)\r\n",
      "  Downloading matplotlib-3.9.4-cp310-cp310-manylinux_2_17_x86_64.manylinux2014_x86_64.whl.metadata (11 kB)\r\n",
      "Collecting rich (from mmengine>=0.3.0->mmcv==2.1.0)\r\n",
      "  Downloading rich-13.9.4-py3-none-any.whl.metadata (18 kB)\r\n",
      "Collecting termcolor (from mmengine>=0.3.0->mmcv==2.1.0)\r\n",
      "  Downloading termcolor-2.5.0-py3-none-any.whl.metadata (6.1 kB)\r\n",
      "Collecting opencv-python>=3 (from mmengine>=0.3.0->mmcv==2.1.0)\r\n",
      "  Downloading opencv_python-4.10.0.84-cp37-abi3-manylinux_2_17_x86_64.manylinux2014_x86_64.whl.metadata (20 kB)\r\n",
      "Collecting platformdirs>=3.5.1 (from yapf->mmcv==2.1.0)\r\n",
      "  Downloading platformdirs-4.3.6-py3-none-any.whl.metadata (11 kB)\r\n",
      "Collecting tomli>=2.0.1 (from yapf->mmcv==2.1.0)\r\n",
      "  Downloading tomli-2.2.1-py3-none-any.whl.metadata (10 kB)\r\n",
      "Collecting contourpy>=1.0.1 (from matplotlib->mmengine>=0.3.0->mmcv==2.1.0)\r\n",
      "  Downloading contourpy-1.3.1-cp310-cp310-manylinux_2_17_x86_64.manylinux2014_x86_64.whl.metadata (5.4 kB)\r\n",
      "Collecting cycler>=0.10 (from matplotlib->mmengine>=0.3.0->mmcv==2.1.0)\r\n",
      "  Downloading cycler-0.12.1-py3-none-any.whl.metadata (3.8 kB)\r\n",
      "Collecting fonttools>=4.22.0 (from matplotlib->mmengine>=0.3.0->mmcv==2.1.0)\r\n",
      "  Downloading fonttools-4.55.3-cp310-cp310-manylinux_2_17_x86_64.manylinux2014_x86_64.whl.metadata (165 kB)\r\n",
      "\u001b[2K     \u001b[90m━━━━━━━━━━━━━━━━━━━━━━━━━━━━━━━━━━━━━━\u001b[0m \u001b[32m165.1/165.1 kB\u001b[0m \u001b[31m10.3 MB/s\u001b[0m eta \u001b[36m0:00:00\u001b[0m\r\n",
      "\u001b[?25hCollecting kiwisolver>=1.3.1 (from matplotlib->mmengine>=0.3.0->mmcv==2.1.0)\r\n",
      "  Downloading kiwisolver-1.4.7-cp310-cp310-manylinux_2_12_x86_64.manylinux2010_x86_64.whl.metadata (6.3 kB)\r\n",
      "Collecting pyparsing>=2.3.1 (from matplotlib->mmengine>=0.3.0->mmcv==2.1.0)\r\n",
      "  Downloading pyparsing-3.2.0-py3-none-any.whl.metadata (5.0 kB)\r\n",
      "Collecting python-dateutil>=2.7 (from matplotlib->mmengine>=0.3.0->mmcv==2.1.0)\r\n",
      "  Downloading python_dateutil-2.9.0.post0-py2.py3-none-any.whl.metadata (8.4 kB)\r\n",
      "Collecting markdown-it-py>=2.2.0 (from rich->mmengine>=0.3.0->mmcv==2.1.0)\r\n",
      "  Downloading markdown_it_py-3.0.0-py3-none-any.whl.metadata (6.9 kB)\r\n",
      "Collecting pygments<3.0.0,>=2.13.0 (from rich->mmengine>=0.3.0->mmcv==2.1.0)\r\n",
      "  Downloading pygments-2.18.0-py3-none-any.whl.metadata (2.5 kB)\r\n",
      "Collecting typing-extensions<5.0,>=4.0.0 (from rich->mmengine>=0.3.0->mmcv==2.1.0)\r\n",
      "  Downloading typing_extensions-4.12.2-py3-none-any.whl.metadata (3.0 kB)\r\n",
      "Collecting mdurl~=0.1 (from markdown-it-py>=2.2.0->rich->mmengine>=0.3.0->mmcv==2.1.0)\r\n",
      "  Downloading mdurl-0.1.2-py3-none-any.whl.metadata (1.6 kB)\r\n",
      "Collecting six>=1.5 (from python-dateutil>=2.7->matplotlib->mmengine>=0.3.0->mmcv==2.1.0)\r\n",
      "  Downloading six-1.17.0-py2.py3-none-any.whl.metadata (1.7 kB)\r\n",
      "Downloading mmengine-0.10.5-py3-none-any.whl (452 kB)\r\n",
      "\u001b[2K   \u001b[90m━━━━━━━━━━━━━━━━━━━━━━━━━━━━━━━━━━━━━━━━\u001b[0m \u001b[32m452.3/452.3 kB\u001b[0m \u001b[31m27.3 MB/s\u001b[0m eta \u001b[36m0:00:00\u001b[0m\r\n",
      "\u001b[?25hDownloading addict-2.4.0-py3-none-any.whl (3.8 kB)\r\n",
      "Downloading numpy-2.2.0-cp310-cp310-manylinux_2_17_x86_64.manylinux2014_x86_64.whl (16.4 MB)\r\n",
      "\u001b[2K   \u001b[90m━━━━━━━━━━━━━━━━━━━━━━━━━━━━━━━━━━━━━━━━\u001b[0m \u001b[32m16.4/16.4 MB\u001b[0m \u001b[31m100.3 MB/s\u001b[0m eta \u001b[36m0:00:00\u001b[0m\r\n",
      "\u001b[?25hDownloading packaging-24.2-py3-none-any.whl (65 kB)\r\n",
      "\u001b[2K   \u001b[90m━━━━━━━━━━━━━━━━━━━━━━━━━━━━━━━━━━━━━━━━\u001b[0m \u001b[32m65.5/65.5 kB\u001b[0m \u001b[31m4.9 MB/s\u001b[0m eta \u001b[36m0:00:00\u001b[0m\r\n",
      "\u001b[?25hDownloading pillow-11.0.0-cp310-cp310-manylinux_2_28_x86_64.whl (4.4 MB)\r\n",
      "\u001b[2K   \u001b[90m━━━━━━━━━━━━━━━━━━━━━━━━━━━━━━━━━━━━━━━━\u001b[0m \u001b[32m4.4/4.4 MB\u001b[0m \u001b[31m93.2 MB/s\u001b[0m eta \u001b[36m0:00:00\u001b[0m\r\n",
      "\u001b[?25hDownloading PyYAML-6.0.2-cp310-cp310-manylinux_2_17_x86_64.manylinux2014_x86_64.whl (751 kB)\r\n",
      "\u001b[2K   \u001b[90m━━━━━━━━━━━━━━━━━━━━━━━━━━━━━━━━━━━━━━━━\u001b[0m \u001b[32m751.2/751.2 kB\u001b[0m \u001b[31m44.8 MB/s\u001b[0m eta \u001b[36m0:00:00\u001b[0m\r\n",
      "\u001b[?25hDownloading yapf-0.43.0-py3-none-any.whl (256 kB)\r\n",
      "\u001b[2K   \u001b[90m━━━━━━━━━━━━━━━━━━━━━━━━━━━━━━━━━━━━━━━━\u001b[0m \u001b[32m256.2/256.2 kB\u001b[0m \u001b[31m16.6 MB/s\u001b[0m eta \u001b[36m0:00:00\u001b[0m\r\n",
      "\u001b[?25hDownloading opencv_python-4.10.0.84-cp37-abi3-manylinux_2_17_x86_64.manylinux2014_x86_64.whl (62.5 MB)\r\n",
      "\u001b[2K   \u001b[90m━━━━━━━━━━━━━━━━━━━━━━━━━━━━━━━━━━━━━━━━\u001b[0m \u001b[32m62.5/62.5 MB\u001b[0m \u001b[31m30.1 MB/s\u001b[0m eta \u001b[36m0:00:00\u001b[0m\r\n",
      "\u001b[?25hDownloading platformdirs-4.3.6-py3-none-any.whl (18 kB)\r\n",
      "Downloading tomli-2.2.1-py3-none-any.whl (14 kB)\r\n",
      "Downloading matplotlib-3.9.4-cp310-cp310-manylinux_2_17_x86_64.manylinux2014_x86_64.whl (8.3 MB)\r\n",
      "\u001b[2K   \u001b[90m━━━━━━━━━━━━━━━━━━━━━━━━━━━━━━━━━━━━━━━━\u001b[0m \u001b[32m8.3/8.3 MB\u001b[0m \u001b[31m111.7 MB/s\u001b[0m eta \u001b[36m0:00:00\u001b[0m\r\n",
      "\u001b[?25hDownloading rich-13.9.4-py3-none-any.whl (242 kB)\r\n",
      "\u001b[2K   \u001b[90m━━━━━━━━━━━━━━━━━━━━━━━━━━━━━━━━━━━━━━━━\u001b[0m \u001b[32m242.4/242.4 kB\u001b[0m \u001b[31m16.2 MB/s\u001b[0m eta \u001b[36m0:00:00\u001b[0m\r\n",
      "\u001b[?25hDownloading termcolor-2.5.0-py3-none-any.whl (7.8 kB)\r\n",
      "Downloading contourpy-1.3.1-cp310-cp310-manylinux_2_17_x86_64.manylinux2014_x86_64.whl (324 kB)\r\n",
      "\u001b[2K   \u001b[90m━━━━━━━━━━━━━━━━━━━━━━━━━━━━━━━━━━━━━━━━\u001b[0m \u001b[32m325.0/325.0 kB\u001b[0m \u001b[31m19.7 MB/s\u001b[0m eta \u001b[36m0:00:00\u001b[0m\r\n",
      "\u001b[?25hDownloading cycler-0.12.1-py3-none-any.whl (8.3 kB)\r\n",
      "Downloading fonttools-4.55.3-cp310-cp310-manylinux_2_17_x86_64.manylinux2014_x86_64.whl (4.6 MB)\r\n",
      "\u001b[2K   \u001b[90m━━━━━━━━━━━━━━━━━━━━━━━━━━━━━━━━━━━━━━━━\u001b[0m \u001b[32m4.6/4.6 MB\u001b[0m \u001b[31m101.2 MB/s\u001b[0m eta \u001b[36m0:00:00\u001b[0m\r\n",
      "\u001b[?25hDownloading kiwisolver-1.4.7-cp310-cp310-manylinux_2_12_x86_64.manylinux2010_x86_64.whl (1.6 MB)\r\n",
      "\u001b[2K   \u001b[90m━━━━━━━━━━━━━━━━━━━━━━━━━━━━━━━━━━━━━━━━\u001b[0m \u001b[32m1.6/1.6 MB\u001b[0m \u001b[31m65.3 MB/s\u001b[0m eta \u001b[36m0:00:00\u001b[0m\r\n",
      "\u001b[?25hDownloading markdown_it_py-3.0.0-py3-none-any.whl (87 kB)\r\n",
      "\u001b[2K   \u001b[90m━━━━━━━━━━━━━━━━━━━━━━━━━━━━━━━━━━━━━━━━\u001b[0m \u001b[32m87.5/87.5 kB\u001b[0m \u001b[31m5.1 MB/s\u001b[0m eta \u001b[36m0:00:00\u001b[0m\r\n",
      "\u001b[?25hDownloading pygments-2.18.0-py3-none-any.whl (1.2 MB)\r\n",
      "\u001b[2K   \u001b[90m━━━━━━━━━━━━━━━━━━━━━━━━━━━━━━━━━━━━━━━━\u001b[0m \u001b[32m1.2/1.2 MB\u001b[0m \u001b[31m54.1 MB/s\u001b[0m eta \u001b[36m0:00:00\u001b[0m\r\n",
      "\u001b[?25hDownloading pyparsing-3.2.0-py3-none-any.whl (106 kB)\r\n",
      "\u001b[2K   \u001b[90m━━━━━━━━━━━━━━━━━━━━━━━━━━━━━━━━━━━━━━━━\u001b[0m \u001b[32m106.9/106.9 kB\u001b[0m \u001b[31m7.2 MB/s\u001b[0m eta \u001b[36m0:00:00\u001b[0m\r\n",
      "\u001b[?25hDownloading python_dateutil-2.9.0.post0-py2.py3-none-any.whl (229 kB)\r\n",
      "\u001b[2K   \u001b[90m━━━━━━━━━━━━━━━━━━━━━━━━━━━━━━━━━━━━━━━━\u001b[0m \u001b[32m229.9/229.9 kB\u001b[0m \u001b[31m14.6 MB/s\u001b[0m eta \u001b[36m0:00:00\u001b[0m\r\n",
      "\u001b[?25hDownloading typing_extensions-4.12.2-py3-none-any.whl (37 kB)\r\n",
      "Downloading mdurl-0.1.2-py3-none-any.whl (10.0 kB)\r\n",
      "Downloading six-1.17.0-py2.py3-none-any.whl (11 kB)\r\n",
      "Building wheels for collected packages: mmcv\r\n",
      "  Building wheel for mmcv (setup.py) ... \u001b[?25l-\b \b\\\b \b|\b \b/\b \b-\b \b\\\b \b|\b \b/\b \b-\b \b\\\b \b|\b \b/\b \b-\b \b\\\b \b|\b \b/\b \b-\b \b\\\b \b|\b \b/\b \b-\b \b\\\b \b|\b \b/\b \b-\b \b\\\b \b|\b \b/\b \b-\b \b\\\b \b|\b \b/\b \b-\b \b\\\b \b|\b \b/\b \b-\b \b\\\b \b|\b \b/\b \b-\b \b\\\b \b|\b \b/\b \b-\b \b\\\b \b|\b \b/\b \b-\b \b\\\b \b|\b \b/\b \b-\b \b\\\b \b|\b \b/\b \b-\b \b\\\b \b|\b \b/\b \b-\b \b\\\b \b|\b \b/\b \b-\b \b\\\b \b|\b \b/\b \b-\b \b\\\b \b|\b \b/\b \b-\b \b\\\b \b|\b \b/\b \b-\b \b\\\b \b|\b \b/\b \b-\b \b\\\b \b|\b \b/\b \b-\b \b\\\b \b|\b \b/\b \b-\b \b\\\b \b|\b \b/\b \b-\b \b\\\b \b|\b \b/\b \b-\b \b\\\b \b|\b \b/\b \b-\b \b\\\b \b|\b \b/\b \b-\b \b\\\b \b|\b \b/\b \b-\b \b\\\b \b|\b \b/\b \b-\b \b\\\b \b|\b \b/\b \b-\b \b\\\b \b|\b \b/\b \b-\b \b\\\b \b|\b \b/\b \b-\b \b\\\b \b|\b \b/\b \b-\b \b\\\b \b|\b \b/\b \b-\b \b\\\b \b|\b \b/\b \bdone\r\n",
      "\u001b[?25h  Created wheel for mmcv: filename=mmcv-2.1.0-cp310-cp310-linux_x86_64.whl size=11268279 sha256=f1284b97309f4d3af412cfb65cfa7d3c1d4c30a9cd536717f7ba1176daab1842\r\n",
      "  Stored in directory: /root/.cache/pip/wheels/8b/09/35/94a7f7ba6a00e3810abd0492340e4cbba0ff3d443120a94120\r\n",
      "Successfully built mmcv\r\n",
      "Installing collected packages: addict, typing-extensions, tomli, termcolor, six, pyyaml, pyparsing, pygments, platformdirs, Pillow, packaging, numpy, mdurl, kiwisolver, fonttools, cycler, yapf, python-dateutil, opencv-python, markdown-it-py, contourpy, rich, matplotlib, mmengine, mmcv\r\n",
      "\u001b[31mERROR: pip's dependency resolver does not currently take into account all the packages that are installed. This behaviour is the source of the following dependency conflicts.\r\n",
      "cudf 24.10.1 requires cubinlinker, which is not installed.\r\n",
      "cudf 24.10.1 requires cupy-cuda11x>=12.0.0, which is not installed.\r\n",
      "cudf 24.10.1 requires libcudf==24.10.*, which is not installed.\r\n",
      "cudf 24.10.1 requires ptxcompiler, which is not installed.\r\n",
      "cuml 24.10.0 requires cupy-cuda11x>=12.0.0, which is not installed.\r\n",
      "cuml 24.10.0 requires cuvs==24.10.*, which is not installed.\r\n",
      "cuml 24.10.0 requires nvidia-cublas, which is not installed.\r\n",
      "cuml 24.10.0 requires nvidia-cufft, which is not installed.\r\n",
      "cuml 24.10.0 requires nvidia-curand, which is not installed.\r\n",
      "cuml 24.10.0 requires nvidia-cusolver, which is not installed.\r\n",
      "cuml 24.10.0 requires nvidia-cusparse, which is not installed.\r\n",
      "dask-cudf 24.10.1 requires cupy-cuda11x>=12.0.0, which is not installed.\r\n",
      "pylibcudf 24.10.1 requires libcudf==24.10.*, which is not installed.\r\n",
      "pylibraft 24.10.0 requires nvidia-cublas, which is not installed.\r\n",
      "pylibraft 24.10.0 requires nvidia-curand, which is not installed.\r\n",
      "pylibraft 24.10.0 requires nvidia-cusolver, which is not installed.\r\n",
      "pylibraft 24.10.0 requires nvidia-cusparse, which is not installed.\r\n",
      "ucxx 0.40.0 requires libucxx==0.40.*, which is not installed.\r\n",
      "apache-beam 2.46.0 requires cloudpickle~=2.2.1, but you have cloudpickle 3.1.0 which is incompatible.\r\n",
      "apache-beam 2.46.0 requires dill<0.3.2,>=0.3.1.1, but you have dill 0.3.8 which is incompatible.\r\n",
      "apache-beam 2.46.0 requires numpy<1.25.0,>=1.14.3, but you have numpy 2.2.0 which is incompatible.\r\n",
      "apache-beam 2.46.0 requires pyarrow<10.0.0,>=3.0.0, but you have pyarrow 17.0.0 which is incompatible.\r\n",
      "beatrix-jupyterlab 2024.66.154055 requires jupyterlab~=3.6.0, but you have jupyterlab 4.3.1 which is incompatible.\r\n",
      "bigframes 0.22.0 requires google-cloud-bigquery[bqstorage,pandas]>=3.10.0, but you have google-cloud-bigquery 2.34.4 which is incompatible.\r\n",
      "bigframes 0.22.0 requires google-cloud-storage>=2.0.0, but you have google-cloud-storage 1.44.0 which is incompatible.\r\n",
      "bigframes 0.22.0 requires pandas<2.1.4,>=1.5.0, but you have pandas 2.2.3 which is incompatible.\r\n",
      "catboost 1.2.7 requires numpy<2.0,>=1.16.0, but you have numpy 2.2.0 which is incompatible.\r\n",
      "cudf 24.10.1 requires cuda-python<12.0a0,>=11.7.1, but you have cuda-python 12.6.2.post1 which is incompatible.\r\n",
      "cudf 24.10.1 requires pandas<2.2.3dev0,>=2.0, but you have pandas 2.2.3 which is incompatible.\r\n",
      "dask-cudf 24.10.1 requires pandas<2.2.3dev0,>=2.0, but you have pandas 2.2.3 which is incompatible.\r\n",
      "dataproc-jupyter-plugin 0.1.79 requires pydantic~=1.10.0, but you have pydantic 2.10.1 which is incompatible.\r\n",
      "distributed 2024.9.0 requires dask==2024.9.0, but you have dask 2024.11.2 which is incompatible.\r\n",
      "gensim 4.3.3 requires numpy<2.0,>=1.18.5, but you have numpy 2.2.0 which is incompatible.\r\n",
      "gensim 4.3.3 requires scipy<1.14.0,>=1.7.0, but you have scipy 1.14.1 which is incompatible.\r\n",
      "google-cloud-bigquery 2.34.4 requires packaging<22.0dev,>=14.3, but you have packaging 24.2 which is incompatible.\r\n",
      "ibis-framework 7.1.0 requires numpy<2,>=1, but you have numpy 2.2.0 which is incompatible.\r\n",
      "ibis-framework 7.1.0 requires pyarrow<15,>=2, but you have pyarrow 17.0.0 which is incompatible.\r\n",
      "jupyterlab 4.3.1 requires jupyter-lsp>=2.0.0, but you have jupyter-lsp 1.5.1 which is incompatible.\r\n",
      "jupyterlab-lsp 5.1.0 requires jupyter-lsp>=2.0.0, but you have jupyter-lsp 1.5.1 which is incompatible.\r\n",
      "kfp 2.5.0 requires google-cloud-storage<3,>=2.2.1, but you have google-cloud-storage 1.44.0 which is incompatible.\r\n",
      "libpysal 4.9.2 requires shapely>=2.0.1, but you have shapely 1.8.5.post1 which is incompatible.\r\n",
      "mlxtend 0.23.3 requires scikit-learn>=1.3.1, but you have scikit-learn 1.2.2 which is incompatible.\r\n",
      "numba 0.60.0 requires numpy<2.1,>=1.22, but you have numpy 2.2.0 which is incompatible.\r\n",
      "pylibcudf 24.10.1 requires cuda-python<12.0a0,>=11.7.1, but you have cuda-python 12.6.2.post1 which is incompatible.\r\n",
      "rapids-dask-dependency 24.10.0a0 requires dask==2024.9.0, but you have dask 2024.11.2 which is incompatible.\r\n",
      "rapids-dask-dependency 24.10.0a0 requires dask-expr==1.1.14, but you have dask-expr 1.1.19 which is incompatible.\r\n",
      "rmm 24.10.0 requires cuda-python<12.0a0,>=11.7.1, but you have cuda-python 12.6.2.post1 which is incompatible.\r\n",
      "tensorflow 2.16.1 requires numpy<2.0.0,>=1.23.5; python_version <= \"3.11\", but you have numpy 2.2.0 which is incompatible.\r\n",
      "tensorflow-transform 0.14.0 requires numpy<2,>=1.16, but you have numpy 2.2.0 which is incompatible.\r\n",
      "textblob 0.18.0.post0 requires nltk>=3.8, but you have nltk 3.2.4 which is incompatible.\r\n",
      "thinc 8.3.2 requires numpy<2.1.0,>=2.0.0; python_version >= \"3.9\", but you have numpy 2.2.0 which is incompatible.\r\n",
      "virtualenv 20.21.0 requires platformdirs<4,>=2.4, but you have platformdirs 4.3.6 which is incompatible.\r\n",
      "ydata-profiling 4.12.0 requires numpy<2.2,>=1.16.0, but you have numpy 2.2.0 which is incompatible.\r\n",
      "ydata-profiling 4.12.0 requires scipy<1.14,>=1.4.1, but you have scipy 1.14.1 which is incompatible.\u001b[0m\u001b[31m\r\n",
      "\u001b[0mSuccessfully installed Pillow-11.0.0 addict-2.4.0 contourpy-1.3.1 cycler-0.12.1 fonttools-4.55.3 kiwisolver-1.4.7 markdown-it-py-3.0.0 matplotlib-3.9.4 mdurl-0.1.2 mmcv-2.1.0 mmengine-0.10.5 numpy-2.2.0 opencv-python-4.10.0.84 packaging-24.2 platformdirs-4.3.6 pygments-2.18.0 pyparsing-3.2.0 python-dateutil-2.9.0.post0 pyyaml-6.0.2 rich-13.9.4 six-1.17.0 termcolor-2.5.0 tomli-2.2.1 typing-extensions-4.12.2 yapf-0.43.0\r\n"
     ]
    }
   ],
   "source": [
    "!pip install mmcv==2.1.0 -f https://download.openmmlab.com/mmcv/dist/cu123/torch2.4/index.html -t /kaggle/working/site_packages/mmcv"
   ]
  },
  {
   "cell_type": "code",
   "execution_count": 5,
   "id": "27279a3b",
   "metadata": {
    "execution": {
     "iopub.execute_input": "2024-12-13T15:14:13.765604Z",
     "iopub.status.busy": "2024-12-13T15:14:13.765265Z",
     "iopub.status.idle": "2024-12-13T15:14:48.298501Z",
     "shell.execute_reply": "2024-12-13T15:14:48.297604Z"
    },
    "papermill": {
     "duration": 34.546768,
     "end_time": "2024-12-13T15:14:48.300566",
     "exception": false,
     "start_time": "2024-12-13T15:14:13.753798",
     "status": "completed"
    },
    "tags": []
   },
   "outputs": [
    {
     "name": "stdout",
     "output_type": "stream",
     "text": [
      "Cloning into 'mmdetection'...\r\n",
      "remote: Enumerating objects: 38023, done.\u001b[K\r\n",
      "remote: Total 38023 (delta 0), reused 0 (delta 0), pack-reused 38023 (from 1)\u001b[K\r\n",
      "Receiving objects: 100% (38023/38023), 63.18 MiB | 32.76 MiB/s, done.\r\n",
      "Resolving deltas: 100% (26233/26233), done.\r\n",
      "/kaggle/working/mmdetection\n",
      "Using pip 24.0 from /opt/conda/lib/python3.10/site-packages/pip (python 3.10)\r\n",
      "Obtaining file:///kaggle/working/mmdetection\r\n",
      "  Running command python setup.py egg_info\r\n",
      "  Preparing metadata (setup.py) ... \u001b[?25l\u001b[?25hdone\r\n",
      "Collecting matplotlib (from mmdet==3.3.0)\r\n",
      "  Obtaining dependency information for matplotlib from https://files.pythonhosted.org/packages/07/06/272aca07a38804d93b6050813de41ca7ab0e29ba7a9dd098e12037c919a9/matplotlib-3.9.4-cp310-cp310-manylinux_2_17_x86_64.manylinux2014_x86_64.whl.metadata\r\n",
      "  Using cached matplotlib-3.9.4-cp310-cp310-manylinux_2_17_x86_64.manylinux2014_x86_64.whl.metadata (11 kB)\r\n",
      "Collecting numpy (from mmdet==3.3.0)\r\n",
      "  Obtaining dependency information for numpy from https://files.pythonhosted.org/packages/4c/49/c2adeccc8a47bcd9335ec000dfcb4de34a7c34aeaa23af57cd504017e8c3/numpy-2.2.0-cp310-cp310-manylinux_2_17_x86_64.manylinux2014_x86_64.whl.metadata\r\n",
      "  Using cached numpy-2.2.0-cp310-cp310-manylinux_2_17_x86_64.manylinux2014_x86_64.whl.metadata (62 kB)\r\n",
      "Collecting pycocotools (from mmdet==3.3.0)\r\n",
      "  Obtaining dependency information for pycocotools from https://files.pythonhosted.org/packages/6a/03/6c0bf810a5df7876caaf11f5b113e7ffd4b2fa9767d360489c6fdcefe8e5/pycocotools-2.0.8-cp310-cp310-manylinux_2_17_x86_64.manylinux2014_x86_64.whl.metadata\r\n",
      "  Downloading pycocotools-2.0.8-cp310-cp310-manylinux_2_17_x86_64.manylinux2014_x86_64.whl.metadata (1.1 kB)\r\n",
      "  Link requires a different Python (3.10.14 not in: '>=3.7,<3.10'): https://files.pythonhosted.org/packages/99/f1/c00d6be56e1a718a3068079e3ec8ce044d7179345280f6a3f5066068af0d/scipy-1.6.2.tar.gz (from https://pypi.org/simple/scipy/) (requires-python:>=3.7,<3.10)\r\n",
      "  Link requires a different Python (3.10.14 not in: '>=3.7,<3.10'): https://files.pythonhosted.org/packages/fe/fd/8704c7b7b34cdac850485e638346025ca57c5a859934b9aa1be5399b33b7/scipy-1.6.3.tar.gz (from https://pypi.org/simple/scipy/) (requires-python:>=3.7,<3.10)\r\n",
      "  Link requires a different Python (3.10.14 not in: '>=3.7,<3.10'): https://files.pythonhosted.org/packages/bb/bb/944f559d554df6c9adf037aa9fc982a9706ee0e96c0d5beac701cb158900/scipy-1.7.0.tar.gz (from https://pypi.org/simple/scipy/) (requires-python:>=3.7,<3.10)\r\n",
      "  Link requires a different Python (3.10.14 not in: '>=3.7,<3.10'): https://files.pythonhosted.org/packages/47/33/a24aec22b7be7fdb10ec117a95e1e4099890d8bbc6646902f443fc7719d1/scipy-1.7.1.tar.gz (from https://pypi.org/simple/scipy/) (requires-python:>=3.7,<3.10)\r\n",
      "Collecting scipy (from mmdet==3.3.0)\r\n",
      "  Obtaining dependency information for scipy from https://files.pythonhosted.org/packages/47/78/b0c2c23880dd1e99e938ad49ccfb011ae353758a2dc5ed7ee59baff684c3/scipy-1.14.1-cp310-cp310-manylinux_2_17_x86_64.manylinux2014_x86_64.whl.metadata\r\n",
      "  Downloading scipy-1.14.1-cp310-cp310-manylinux_2_17_x86_64.manylinux2014_x86_64.whl.metadata (60 kB)\r\n",
      "\u001b[2K     \u001b[90m━━━━━━━━━━━━━━━━━━━━━━━━━━━━━━━━━━━━━━━━\u001b[0m \u001b[32m60.8/60.8 kB\u001b[0m \u001b[31m2.9 MB/s\u001b[0m eta \u001b[36m0:00:00\u001b[0m\r\n",
      "\u001b[?25hCollecting shapely (from mmdet==3.3.0)\r\n",
      "  Obtaining dependency information for shapely from https://files.pythonhosted.org/packages/2b/a6/302e0d9c210ccf4d1ffadf7ab941797d3255dcd5f93daa73aaf116a4db39/shapely-2.0.6-cp310-cp310-manylinux_2_17_x86_64.manylinux2014_x86_64.whl.metadata\r\n",
      "  Downloading shapely-2.0.6-cp310-cp310-manylinux_2_17_x86_64.manylinux2014_x86_64.whl.metadata (7.0 kB)\r\n",
      "Collecting six (from mmdet==3.3.0)\r\n",
      "  Obtaining dependency information for six from https://files.pythonhosted.org/packages/b7/ce/149a00dd41f10bc29e5921b496af8b574d8413afcd5e30dfa0ed46c2cc5e/six-1.17.0-py2.py3-none-any.whl.metadata\r\n",
      "  Using cached six-1.17.0-py2.py3-none-any.whl.metadata (1.7 kB)\r\n",
      "Collecting terminaltables (from mmdet==3.3.0)\r\n",
      "  Obtaining dependency information for terminaltables from https://files.pythonhosted.org/packages/c4/fb/ea621e0a19733e01fe4005d46087d383693c0f4a8f824b47d8d4122c87e0/terminaltables-3.1.10-py2.py3-none-any.whl.metadata\r\n",
      "  Downloading terminaltables-3.1.10-py2.py3-none-any.whl.metadata (3.5 kB)\r\n",
      "Collecting tqdm (from mmdet==3.3.0)\r\n",
      "  Obtaining dependency information for tqdm from https://files.pythonhosted.org/packages/d0/30/dc54f88dd4a2b5dc8a0279bdd7270e735851848b762aeb1c1184ed1f6b14/tqdm-4.67.1-py3-none-any.whl.metadata\r\n",
      "  Downloading tqdm-4.67.1-py3-none-any.whl.metadata (57 kB)\r\n",
      "\u001b[2K     \u001b[90m━━━━━━━━━━━━━━━━━━━━━━━━━━━━━━━━━━━━━━━━\u001b[0m \u001b[32m57.7/57.7 kB\u001b[0m \u001b[31m3.9 MB/s\u001b[0m eta \u001b[36m0:00:00\u001b[0m\r\n",
      "\u001b[?25hCollecting contourpy>=1.0.1 (from matplotlib->mmdet==3.3.0)\r\n",
      "  Obtaining dependency information for contourpy>=1.0.1 from https://files.pythonhosted.org/packages/a9/57/86c500d63b3e26e5b73a28b8291a67c5608d4aa87ebd17bd15bb33c178bc/contourpy-1.3.1-cp310-cp310-manylinux_2_17_x86_64.manylinux2014_x86_64.whl.metadata\r\n",
      "  Using cached contourpy-1.3.1-cp310-cp310-manylinux_2_17_x86_64.manylinux2014_x86_64.whl.metadata (5.4 kB)\r\n",
      "Collecting cycler>=0.10 (from matplotlib->mmdet==3.3.0)\r\n",
      "  Obtaining dependency information for cycler>=0.10 from https://files.pythonhosted.org/packages/e7/05/c19819d5e3d95294a6f5947fb9b9629efb316b96de511b418c53d245aae6/cycler-0.12.1-py3-none-any.whl.metadata\r\n",
      "  Using cached cycler-0.12.1-py3-none-any.whl.metadata (3.8 kB)\r\n",
      "Collecting fonttools>=4.22.0 (from matplotlib->mmdet==3.3.0)\r\n",
      "  Obtaining dependency information for fonttools>=4.22.0 from https://files.pythonhosted.org/packages/34/db/d423bc646e6703fe3e6aea0edd22a2df47b9d188c5f7f1b49070be4d2205/fonttools-4.55.3-cp310-cp310-manylinux_2_17_x86_64.manylinux2014_x86_64.whl.metadata\r\n",
      "  Using cached fonttools-4.55.3-cp310-cp310-manylinux_2_17_x86_64.manylinux2014_x86_64.whl.metadata (165 kB)\r\n",
      "Collecting kiwisolver>=1.3.1 (from matplotlib->mmdet==3.3.0)\r\n",
      "  Obtaining dependency information for kiwisolver>=1.3.1 from https://files.pythonhosted.org/packages/55/91/0a57ce324caf2ff5403edab71c508dd8f648094b18cfbb4c8cc0fde4a6ac/kiwisolver-1.4.7-cp310-cp310-manylinux_2_12_x86_64.manylinux2010_x86_64.whl.metadata\r\n",
      "  Using cached kiwisolver-1.4.7-cp310-cp310-manylinux_2_12_x86_64.manylinux2010_x86_64.whl.metadata (6.3 kB)\r\n",
      "Collecting packaging>=20.0 (from matplotlib->mmdet==3.3.0)\r\n",
      "  Obtaining dependency information for packaging>=20.0 from https://files.pythonhosted.org/packages/88/ef/eb23f262cca3c0c4eb7ab1933c3b1f03d021f2c48f54763065b6f0e321be/packaging-24.2-py3-none-any.whl.metadata\r\n",
      "  Using cached packaging-24.2-py3-none-any.whl.metadata (3.2 kB)\r\n",
      "Collecting pillow>=8 (from matplotlib->mmdet==3.3.0)\r\n",
      "  Obtaining dependency information for pillow>=8 from https://files.pythonhosted.org/packages/41/c3/94f33af0762ed76b5a237c5797e088aa57f2b7fa8ee7932d399087be66a8/pillow-11.0.0-cp310-cp310-manylinux_2_28_x86_64.whl.metadata\r\n",
      "  Using cached pillow-11.0.0-cp310-cp310-manylinux_2_28_x86_64.whl.metadata (9.1 kB)\r\n",
      "Collecting pyparsing>=2.3.1 (from matplotlib->mmdet==3.3.0)\r\n",
      "  Obtaining dependency information for pyparsing>=2.3.1 from https://files.pythonhosted.org/packages/be/ec/2eb3cd785efd67806c46c13a17339708ddc346cbb684eade7a6e6f79536a/pyparsing-3.2.0-py3-none-any.whl.metadata\r\n",
      "  Using cached pyparsing-3.2.0-py3-none-any.whl.metadata (5.0 kB)\r\n",
      "Collecting python-dateutil>=2.7 (from matplotlib->mmdet==3.3.0)\r\n",
      "  Obtaining dependency information for python-dateutil>=2.7 from https://files.pythonhosted.org/packages/ec/57/56b9bcc3c9c6a792fcbaf139543cee77261f3651ca9da0c93f5c1221264b/python_dateutil-2.9.0.post0-py2.py3-none-any.whl.metadata\r\n",
      "  Using cached python_dateutil-2.9.0.post0-py2.py3-none-any.whl.metadata (8.4 kB)\r\n",
      "Using cached matplotlib-3.9.4-cp310-cp310-manylinux_2_17_x86_64.manylinux2014_x86_64.whl (8.3 MB)\r\n",
      "Using cached numpy-2.2.0-cp310-cp310-manylinux_2_17_x86_64.manylinux2014_x86_64.whl (16.4 MB)\r\n",
      "Downloading pycocotools-2.0.8-cp310-cp310-manylinux_2_17_x86_64.manylinux2014_x86_64.whl (427 kB)\r\n",
      "\u001b[2K   \u001b[90m━━━━━━━━━━━━━━━━━━━━━━━━━━━━━━━━━━━━━━━━\u001b[0m \u001b[32m427.8/427.8 kB\u001b[0m \u001b[31m14.0 MB/s\u001b[0m eta \u001b[36m0:00:00\u001b[0m\r\n",
      "\u001b[?25hDownloading scipy-1.14.1-cp310-cp310-manylinux_2_17_x86_64.manylinux2014_x86_64.whl (41.2 MB)\r\n",
      "\u001b[2K   \u001b[90m━━━━━━━━━━━━━━━━━━━━━━━━━━━━━━━━━━━━━━━━\u001b[0m \u001b[32m41.2/41.2 MB\u001b[0m \u001b[31m48.0 MB/s\u001b[0m eta \u001b[36m0:00:00\u001b[0m\r\n",
      "\u001b[?25hDownloading shapely-2.0.6-cp310-cp310-manylinux_2_17_x86_64.manylinux2014_x86_64.whl (2.5 MB)\r\n",
      "\u001b[2K   \u001b[90m━━━━━━━━━━━━━━━━━━━━━━━━━━━━━━━━━━━━━━━━\u001b[0m \u001b[32m2.5/2.5 MB\u001b[0m \u001b[31m79.8 MB/s\u001b[0m eta \u001b[36m0:00:00\u001b[0m\r\n",
      "\u001b[?25hUsing cached six-1.17.0-py2.py3-none-any.whl (11 kB)\r\n",
      "Downloading terminaltables-3.1.10-py2.py3-none-any.whl (15 kB)\r\n",
      "Downloading tqdm-4.67.1-py3-none-any.whl (78 kB)\r\n",
      "\u001b[2K   \u001b[90m━━━━━━━━━━━━━━━━━━━━━━━━━━━━━━━━━━━━━━━━\u001b[0m \u001b[32m78.5/78.5 kB\u001b[0m \u001b[31m5.2 MB/s\u001b[0m eta \u001b[36m0:00:00\u001b[0m\r\n",
      "\u001b[?25hUsing cached contourpy-1.3.1-cp310-cp310-manylinux_2_17_x86_64.manylinux2014_x86_64.whl (324 kB)\r\n",
      "Using cached cycler-0.12.1-py3-none-any.whl (8.3 kB)\r\n",
      "Using cached fonttools-4.55.3-cp310-cp310-manylinux_2_17_x86_64.manylinux2014_x86_64.whl (4.6 MB)\r\n",
      "Using cached kiwisolver-1.4.7-cp310-cp310-manylinux_2_12_x86_64.manylinux2010_x86_64.whl (1.6 MB)\r\n",
      "Using cached packaging-24.2-py3-none-any.whl (65 kB)\r\n",
      "Using cached pillow-11.0.0-cp310-cp310-manylinux_2_28_x86_64.whl (4.4 MB)\r\n",
      "Using cached pyparsing-3.2.0-py3-none-any.whl (106 kB)\r\n",
      "Using cached python_dateutil-2.9.0.post0-py2.py3-none-any.whl (229 kB)\r\n",
      "Installing collected packages: tqdm, terminaltables, six, pyparsing, pillow, packaging, numpy, kiwisolver, fonttools, cycler, shapely, scipy, python-dateutil, contourpy, matplotlib, pycocotools, mmdet\r\n",
      "  Creating /tmp/pip-target-mg2rz_zi/bin\r\n",
      "  changing mode of /tmp/pip-target-mg2rz_zi/bin/tqdm to 755\r\n",
      "  changing mode of /tmp/pip-target-mg2rz_zi/bin/f2py to 755\r\n",
      "  changing mode of /tmp/pip-target-mg2rz_zi/bin/numpy-config to 755\r\n",
      "  changing mode of /tmp/pip-target-mg2rz_zi/bin/fonttools to 755\r\n",
      "  changing mode of /tmp/pip-target-mg2rz_zi/bin/pyftmerge to 755\r\n",
      "  changing mode of /tmp/pip-target-mg2rz_zi/bin/pyftsubset to 755\r\n",
      "  changing mode of /tmp/pip-target-mg2rz_zi/bin/ttx to 755\r\n",
      "  Running setup.py develop for mmdet\r\n",
      "    Running command python setup.py develop\r\n",
      "    /opt/conda/lib/python3.10/site-packages/setuptools/command/develop.py:42: EasyInstallDeprecationWarning: easy_install command is deprecated.\r\n",
      "    !!\r\n",
      "\r\n",
      "            ********************************************************************************\r\n",
      "            Please avoid running ``setup.py`` and ``easy_install``.\r\n",
      "            Instead, use pypa/build, pypa/installer or other\r\n",
      "            standards-based tools.\r\n",
      "\r\n",
      "            See https://github.com/pypa/setuptools/issues/917 for details.\r\n",
      "            ********************************************************************************\r\n",
      "\r\n",
      "    !!\r\n",
      "      easy_install.initialize_options(self)\r\n",
      "    /opt/conda/lib/python3.10/site-packages/setuptools/_distutils/cmd.py:66: SetuptoolsDeprecationWarning: setup.py install is deprecated.\r\n",
      "    !!\r\n",
      "\r\n",
      "            ********************************************************************************\r\n",
      "            Please avoid running ``setup.py`` directly.\r\n",
      "            Instead, use pypa/build, pypa/installer or other\r\n",
      "            standards-based tools.\r\n",
      "\r\n",
      "            See https://blog.ganssle.io/articles/2021/10/setup-py-deprecated.html for details.\r\n",
      "            ********************************************************************************\r\n",
      "\r\n",
      "    !!\r\n",
      "      self.initialize_options()\r\n",
      "\u001b[31mERROR: pip's dependency resolver does not currently take into account all the packages that are installed. This behaviour is the source of the following dependency conflicts.\r\n",
      "cudf 24.10.1 requires cubinlinker, which is not installed.\r\n",
      "cudf 24.10.1 requires cupy-cuda11x>=12.0.0, which is not installed.\r\n",
      "cudf 24.10.1 requires libcudf==24.10.*, which is not installed.\r\n",
      "cudf 24.10.1 requires ptxcompiler, which is not installed.\r\n",
      "cuml 24.10.0 requires cupy-cuda11x>=12.0.0, which is not installed.\r\n",
      "cuml 24.10.0 requires cuvs==24.10.*, which is not installed.\r\n",
      "cuml 24.10.0 requires nvidia-cublas, which is not installed.\r\n",
      "cuml 24.10.0 requires nvidia-cufft, which is not installed.\r\n",
      "cuml 24.10.0 requires nvidia-curand, which is not installed.\r\n",
      "cuml 24.10.0 requires nvidia-cusolver, which is not installed.\r\n",
      "cuml 24.10.0 requires nvidia-cusparse, which is not installed.\r\n",
      "dask-cudf 24.10.1 requires cupy-cuda11x>=12.0.0, which is not installed.\r\n",
      "pylibcudf 24.10.1 requires libcudf==24.10.*, which is not installed.\r\n",
      "pylibraft 24.10.0 requires nvidia-cublas, which is not installed.\r\n",
      "pylibraft 24.10.0 requires nvidia-curand, which is not installed.\r\n",
      "pylibraft 24.10.0 requires nvidia-cusolver, which is not installed.\r\n",
      "pylibraft 24.10.0 requires nvidia-cusparse, which is not installed.\r\n",
      "ucxx 0.40.0 requires libucxx==0.40.*, which is not installed.\r\n",
      "apache-beam 2.46.0 requires cloudpickle~=2.2.1, but you have cloudpickle 3.1.0 which is incompatible.\r\n",
      "apache-beam 2.46.0 requires dill<0.3.2,>=0.3.1.1, but you have dill 0.3.8 which is incompatible.\r\n",
      "apache-beam 2.46.0 requires numpy<1.25.0,>=1.14.3, but you have numpy 2.2.0 which is incompatible.\r\n",
      "apache-beam 2.46.0 requires pyarrow<10.0.0,>=3.0.0, but you have pyarrow 17.0.0 which is incompatible.\r\n",
      "beatrix-jupyterlab 2024.66.154055 requires jupyterlab~=3.6.0, but you have jupyterlab 4.3.1 which is incompatible.\r\n",
      "catboost 1.2.7 requires numpy<2.0,>=1.16.0, but you have numpy 2.2.0 which is incompatible.\r\n",
      "cudf 24.10.1 requires cuda-python<12.0a0,>=11.7.1, but you have cuda-python 12.6.2.post1 which is incompatible.\r\n",
      "cudf 24.10.1 requires pandas<2.2.3dev0,>=2.0, but you have pandas 2.2.3 which is incompatible.\r\n",
      "dask-cudf 24.10.1 requires pandas<2.2.3dev0,>=2.0, but you have pandas 2.2.3 which is incompatible.\r\n",
      "distributed 2024.9.0 requires dask==2024.9.0, but you have dask 2024.11.2 which is incompatible.\r\n",
      "gensim 4.3.3 requires numpy<2.0,>=1.18.5, but you have numpy 2.2.0 which is incompatible.\r\n",
      "gensim 4.3.3 requires scipy<1.14.0,>=1.7.0, but you have scipy 1.14.1 which is incompatible.\r\n",
      "google-cloud-bigquery 2.34.4 requires packaging<22.0dev,>=14.3, but you have packaging 24.2 which is incompatible.\r\n",
      "ibis-framework 7.1.0 requires numpy<2,>=1, but you have numpy 2.2.0 which is incompatible.\r\n",
      "ibis-framework 7.1.0 requires pyarrow<15,>=2, but you have pyarrow 17.0.0 which is incompatible.\r\n",
      "jupyterlab 4.3.1 requires jupyter-lsp>=2.0.0, but you have jupyter-lsp 1.5.1 which is incompatible.\r\n",
      "jupyterlab-lsp 5.1.0 requires jupyter-lsp>=2.0.0, but you have jupyter-lsp 1.5.1 which is incompatible.\r\n",
      "kfp 2.5.0 requires google-cloud-storage<3,>=2.2.1, but you have google-cloud-storage 1.44.0 which is incompatible.\r\n",
      "mlxtend 0.23.3 requires scikit-learn>=1.3.1, but you have scikit-learn 1.2.2 which is incompatible.\r\n",
      "numba 0.60.0 requires numpy<2.1,>=1.22, but you have numpy 2.2.0 which is incompatible.\r\n",
      "pylibcudf 24.10.1 requires cuda-python<12.0a0,>=11.7.1, but you have cuda-python 12.6.2.post1 which is incompatible.\r\n",
      "rapids-dask-dependency 24.10.0a0 requires dask==2024.9.0, but you have dask 2024.11.2 which is incompatible.\r\n",
      "rapids-dask-dependency 24.10.0a0 requires dask-expr==1.1.14, but you have dask-expr 1.1.19 which is incompatible.\r\n",
      "rmm 24.10.0 requires cuda-python<12.0a0,>=11.7.1, but you have cuda-python 12.6.2.post1 which is incompatible.\r\n",
      "tensorflow 2.16.1 requires numpy<2.0.0,>=1.23.5; python_version <= \"3.11\", but you have numpy 2.2.0 which is incompatible.\r\n",
      "tensorflow-transform 0.14.0 requires numpy<2,>=1.16, but you have numpy 2.2.0 which is incompatible.\r\n",
      "textblob 0.18.0.post0 requires nltk>=3.8, but you have nltk 3.2.4 which is incompatible.\r\n",
      "thinc 8.3.2 requires numpy<2.1.0,>=2.0.0; python_version >= \"3.9\", but you have numpy 2.2.0 which is incompatible.\r\n",
      "ydata-profiling 4.12.0 requires numpy<2.2,>=1.16.0, but you have numpy 2.2.0 which is incompatible.\r\n",
      "ydata-profiling 4.12.0 requires scipy<1.14,>=1.4.1, but you have scipy 1.14.1 which is incompatible.\u001b[0m\u001b[31m\r\n",
      "\u001b[0mSuccessfully installed contourpy-1.3.1 cycler-0.12.1 fonttools-4.55.3 kiwisolver-1.4.7 matplotlib-3.9.4 mmdet numpy-2.2.0 packaging-24.2 pillow-11.0.0 pycocotools-2.0.8 pyparsing-3.2.0 python-dateutil-2.9.0.post0 scipy-1.14.1 shapely-2.0.6 six-1.17.0 terminaltables-3.1.10 tqdm-4.67.1\r\n"
     ]
    }
   ],
   "source": [
    "!git clone https://github.com/open-mmlab/mmdetection.git\n",
    "%cd mmdetection\n",
    "!pip install -v -e . -t /kaggle/working/site_packages/mmdet"
   ]
  },
  {
   "cell_type": "code",
   "execution_count": 6,
   "id": "915b2347",
   "metadata": {
    "execution": {
     "iopub.execute_input": "2024-12-13T15:14:48.331076Z",
     "iopub.status.busy": "2024-12-13T15:14:48.330798Z",
     "iopub.status.idle": "2024-12-13T15:14:48.335122Z",
     "shell.execute_reply": "2024-12-13T15:14:48.334309Z"
    },
    "papermill": {
     "duration": 0.021229,
     "end_time": "2024-12-13T15:14:48.336753",
     "exception": false,
     "start_time": "2024-12-13T15:14:48.315524",
     "status": "completed"
    },
    "tags": []
   },
   "outputs": [],
   "source": [
    "import sys\n",
    "sys.path.append('/kaggle/working/site_packages/mmcv')\n",
    "sys.path.append('/kaggle/working/site_packages/mmdet')"
   ]
  },
  {
   "cell_type": "code",
   "execution_count": 7,
   "id": "aa092da3",
   "metadata": {
    "execution": {
     "iopub.execute_input": "2024-12-13T15:14:48.365921Z",
     "iopub.status.busy": "2024-12-13T15:14:48.365685Z",
     "iopub.status.idle": "2024-12-13T15:14:50.164388Z",
     "shell.execute_reply": "2024-12-13T15:14:50.163546Z"
    },
    "papermill": {
     "duration": 1.815214,
     "end_time": "2024-12-13T15:14:50.166127",
     "exception": false,
     "start_time": "2024-12-13T15:14:48.350913",
     "status": "completed"
    },
    "tags": []
   },
   "outputs": [
    {
     "name": "stdout",
     "output_type": "stream",
     "text": [
      "MMCV version: 2.1.0\n",
      "MMDetection version: 3.3.0\n",
      "MMEngine version: 0.10.5\n"
     ]
    }
   ],
   "source": [
    "import mmcv\n",
    "import mmengine\n",
    "import mmdet\n",
    "\n",
    "print(f\"MMCV version: {mmcv.__version__}\")\n",
    "print(f\"MMDetection version: {mmdet.__version__}\")\n",
    "print(f\"MMEngine version: {mmengine.__version__}\")"
   ]
  }
 ],
 "metadata": {
  "kaggle": {
   "accelerator": "gpu",
   "dataSources": [],
   "dockerImageVersionId": 30805,
   "isGpuEnabled": true,
   "isInternetEnabled": true,
   "language": "python",
   "sourceType": "notebook"
  },
  "kernelspec": {
   "display_name": "Python 3",
   "language": "python",
   "name": "python3"
  },
  "language_info": {
   "codemirror_mode": {
    "name": "ipython",
    "version": 3
   },
   "file_extension": ".py",
   "mimetype": "text/x-python",
   "name": "python",
   "nbconvert_exporter": "python",
   "pygments_lexer": "ipython3",
   "version": "3.10.14"
  },
  "papermill": {
   "default_parameters": {},
   "duration": 1121.480027,
   "end_time": "2024-12-13T15:14:50.800628",
   "environment_variables": {},
   "exception": null,
   "input_path": "__notebook__.ipynb",
   "output_path": "__notebook__.ipynb",
   "parameters": {},
   "start_time": "2024-12-13T14:56:09.320601",
   "version": "2.6.0"
  }
 },
 "nbformat": 4,
 "nbformat_minor": 5
}
